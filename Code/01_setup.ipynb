{
 "cells": [
  {
   "cell_type": "code",
   "execution_count": 6,
   "metadata": {},
   "outputs": [],
   "source": [
    "import bw2io as bi\n",
    "import bw2data as bd\n",
    "import bw2calc as bc\n",
    "import json\n",
    "import git"
   ]
  },
  {
   "cell_type": "code",
   "execution_count": 7,
   "metadata": {},
   "outputs": [],
   "source": [
    "def get_git_root():\n",
    "    repo = git.Repo(search_parent_directories=True)\n",
    "    return repo.git.rev_parse(\"--show-toplevel\")\n",
    "root = get_git_root()"
   ]
  },
  {
   "cell_type": "code",
   "execution_count": 8,
   "metadata": {},
   "outputs": [],
   "source": [
    "## get our secrets \n",
    "with open(f\"{root}/secrets/passwords.json\", 'r') as file:\n",
    "    data = json.load(file)\n",
    "\n",
    "ECOINVENT_USER = data['ecoinvent_username']\n",
    "ECOINVENT_PASS = data['ecoinvent_password']"
   ]
  },
  {
   "cell_type": "code",
   "execution_count": null,
   "metadata": {},
   "outputs": [
    {
     "name": "stdout",
     "output_type": "stream",
     "text": [
      "Active projects:  Brightway2 projects manager with 2 objects:\n",
      "\tSEE_LAB\n",
      "\tdefault\n",
      "Use `projects.report()` to get a report on all projects.\n",
      "Initating ecoinvent download\n",
      "Applying strategy: normalize_units\n",
      "Applying strategy: drop_unspecified_subcategories\n",
      "Applying strategy: ensure_categories_are_tuples\n",
      "Applied 3 strategies in 0.00 seconds\n",
      "4718 datasets\n",
      "0 exchanges\n",
      "0 unlinked exchanges\n",
      "  \n",
      "Extracting XML data from 21238 datasets\n",
      "Extracted 21238 datasets in 51.00 seconds\n",
      "Applying strategy: normalize_units\n",
      "Applying strategy: update_ecoinvent_locations\n",
      "Applying strategy: remove_zero_amount_coproducts\n",
      "Applying strategy: remove_zero_amount_inputs_with_no_activity\n",
      "Applying strategy: remove_unnamed_parameters\n",
      "Applying strategy: es2_assign_only_product_with_amount_as_reference_product\n",
      "Applying strategy: assign_single_product_as_activity\n",
      "Applying strategy: create_composite_code\n",
      "Applying strategy: drop_unspecified_subcategories\n",
      "Applying strategy: fix_ecoinvent_flows_pre35\n",
      "Applying strategy: drop_temporary_outdated_biosphere_flows\n",
      "Applying strategy: link_biosphere_by_flow_uuid\n",
      "Applying strategy: link_internal_technosphere_by_composite_code\n",
      "Applying strategy: delete_exchanges_missing_activity\n",
      "Applying strategy: delete_ghost_exchanges\n",
      "Applying strategy: remove_uncertainty_from_negative_loss_exchanges\n",
      "Applying strategy: fix_unreasonably_high_lognormal_uncertainties\n",
      "Applying strategy: convert_activity_parameters_to_list\n",
      "Applying strategy: add_cpc_classification_from_single_reference_product\n",
      "Applying strategy: delete_none_synonyms\n",
      "Applying strategy: update_social_flows_in_older_consequential\n",
      "Applying strategy: set_lognormal_loc_value\n",
      "Applied 22 strategies in 5.43 seconds\n",
      "21238 datasets\n",
      "674593 exchanges\n",
      "0 unlinked exchanges\n",
      "  \n",
      "Not able to determine geocollections for all datasets. This database is not ready for regionalization.\n"
     ]
    },
    {
     "name": "stderr",
     "output_type": "stream",
     "text": [
      "100%|██████████| 21238/21238 [00:23<00:00, 906.20it/s] \n"
     ]
    },
    {
     "name": "stdout",
     "output_type": "stream",
     "text": [
      "Vacuuming database \n",
      "Created database: ecoinvent-3.9.1-cutoff\n",
      "Download complete\n"
     ]
    },
    {
     "data": {
      "text/plain": [
       "['ecoinvent-3.9.1-biosphere', 'ecoinvent-3.9.1-cutoff']"
      ]
     },
     "execution_count": 5,
     "metadata": {},
     "output_type": "execute_result"
    }
   ],
   "source": [
    "## get our secrets \n",
    "with open(r'C:\\Users\\fitsl\\Documents\\Programming\\SEE-Lab-LCA-Analyis\\secrets\\passwords.json', 'r') as file:\n",
    "    data = json.load(file)\n",
    "\n",
    "ECOINVENT_USER = data['ecoinvent_username']\n",
    "ECOINVENT_PASS = data['ecoinvent_password']\n",
    "\n",
    "print(\"Active projects: \", bd.projects)\n",
    "\n",
    "bd.projects.set_current('SEE_LAB') \n",
    "print(\"Databases: \", bd.databases)# check if there are databases in the project, and how they are named. \n",
    "\n",
    "if 'ecoinvent-3.9.1-cutoff' in bd.databases:\n",
    "    print('ecoinvent 3.9.1 is already present in the project')\n",
    "else:\n",
    "    print(\"Initating ecoinvent download\")\n",
    "    bi.import_ecoinvent_release(\n",
    "        version='3.9.1',\n",
    "        system_model='cutoff', # can be cutoff / apos / consequential / EN15804\n",
    "        username=ECOINVENT_USER,\n",
    "        password=ECOINVENT_PASS\n",
    "    )\n",
    "\n",
    "print(\"Download complete\")\n",
    "list(bd.databases) # check if there are databases in the project, and how they are named. "
   ]
  }
 ],
 "metadata": {
  "kernelspec": {
   "display_name": "SEE_BW",
   "language": "python",
   "name": "python3"
  },
  "language_info": {
   "codemirror_mode": {
    "name": "ipython",
    "version": 3
   },
   "file_extension": ".py",
   "mimetype": "text/x-python",
   "name": "python",
   "nbconvert_exporter": "python",
   "pygments_lexer": "ipython3",
   "version": "3.13.1"
  }
 },
 "nbformat": 4,
 "nbformat_minor": 2
}
