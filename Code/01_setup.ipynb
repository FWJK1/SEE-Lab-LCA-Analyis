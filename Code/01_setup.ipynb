{
 "cells": [
  {
   "cell_type": "code",
   "execution_count": 7,
   "metadata": {},
   "outputs": [],
   "source": [
    "import bw2io as bi\n",
    "import bw2data as bd\n",
    "import bw2calc as bc\n",
    "import json\n",
    "import git"
   ]
  },
  {
   "cell_type": "code",
   "execution_count": 8,
   "metadata": {},
   "outputs": [],
   "source": [
    "def get_git_root():\n",
    "    repo = git.Repo(search_parent_directories=True)\n",
    "    return repo.git.rev_parse(\"--show-toplevel\")\n",
    "root = get_git_root()"
   ]
  },
  {
   "cell_type": "code",
   "execution_count": 9,
   "metadata": {},
   "outputs": [],
   "source": [
    "## get our secrets \n",
    "with open(f\"{root}/secrets/passwords.json\", 'r') as file:\n",
    "    data = json.load(file)\n",
    "\n",
    "ECOINVENT_USER = data['ecoinvent_username']\n",
    "ECOINVENT_PASS = data['ecoinvent_password']"
   ]
  },
  {
   "cell_type": "markdown",
   "metadata": {},
   "source": [
    "Now we select our project from the list. If this is the first time running this script, we also have to download it using our secret username and password."
   ]
  },
  {
   "cell_type": "code",
   "execution_count": 10,
   "metadata": {},
   "outputs": [
    {
     "name": "stdout",
     "output_type": "stream",
     "text": [
      "Active projects:  Brightway2 projects manager with 3 objects:\n",
      "\tSEE_LAB\n",
      "\tbw25-tuto\n",
      "\tdefault\n",
      "Use `projects.report()` to get a report on all projects.\n",
      "Databases:  Databases dictionary with 2 object(s):\n",
      "\tecoinvent-3.9.1-biosphere\n",
      "\tecoinvent-3.9.1-cutoff\n",
      "Initating ecoinvent download\n"
     ]
    },
    {
     "name": "stderr",
     "output_type": "stream",
     "text": [
      "c:\\Users\\fitsl\\anaconda3\\envs\\SEE_BW\\Lib\\site-packages\\ecoinvent_interface\\release.py:238: UserWarning: Can't automatically delete C:\\Users\\fitsl\\AppData\\Local\\pylca\\EcoinventInterface\\cache\\ecoinvent 3.11_cutoff_ecoSpold02.7z\n",
      "        Please delete manually\n",
      "  warnings.warn(message)\n"
     ]
    },
    {
     "name": "stdout",
     "output_type": "stream",
     "text": [
      "Applying strategy: normalize_units\n",
      "Applying strategy: drop_unspecified_subcategories\n",
      "Applying strategy: ensure_categories_are_tuples\n",
      "Applied 3 strategies in 0.01 seconds\n",
      "9795 datasets\n",
      "0 exchanges\n",
      "0 unlinked exchanges\n",
      "  \n"
     ]
    },
    {
     "name": "stderr",
     "output_type": "stream",
     "text": [
      "100%|██████████| 9795/9795 [00:00<00:00, 33353.23it/s]\n"
     ]
    },
    {
     "name": "stdout",
     "output_type": "stream",
     "text": [
      "Vacuuming database \n",
      "Created database: ecoinvent-3.11-biosphere\n",
      "Extracting XML data from 25412 datasets\n",
      "Extracted 25412 datasets in 80.16 seconds\n",
      "Applying strategy: normalize_units\n",
      "Applying strategy: update_ecoinvent_locations\n",
      "Applying strategy: remove_zero_amount_coproducts\n",
      "Applying strategy: remove_zero_amount_inputs_with_no_activity\n",
      "Applying strategy: remove_unnamed_parameters\n",
      "Applying strategy: es2_assign_only_product_with_amount_as_reference_product\n",
      "Applying strategy: assign_single_product_as_activity\n",
      "Applying strategy: create_composite_code\n",
      "Applying strategy: drop_unspecified_subcategories\n",
      "Applying strategy: fix_ecoinvent_flows_pre35\n",
      "Applying strategy: drop_temporary_outdated_biosphere_flows\n",
      "Applying strategy: link_biosphere_by_flow_uuid\n",
      "Applying strategy: link_internal_technosphere_by_composite_code\n",
      "Applying strategy: delete_exchanges_missing_activity\n",
      "Applying strategy: delete_ghost_exchanges\n",
      "Applying strategy: remove_uncertainty_from_negative_loss_exchanges\n",
      "Applying strategy: fix_unreasonably_high_lognormal_uncertainties\n",
      "Applying strategy: convert_activity_parameters_to_list\n",
      "Applying strategy: add_cpc_classification_from_single_reference_product\n",
      "Applying strategy: delete_none_synonyms\n",
      "Applying strategy: update_social_flows_in_older_consequential\n",
      "Applying strategy: set_lognormal_loc_value\n",
      "Applied 22 strategies in 7.79 seconds\n",
      "25412 datasets\n",
      "855034 exchanges\n",
      "0 unlinked exchanges\n",
      "  \n",
      "Not able to determine geocollections for all datasets. This database is not ready for regionalization.\n"
     ]
    },
    {
     "ename": "OperationalError",
     "evalue": "database is locked",
     "output_type": "error",
     "traceback": [
      "\u001b[1;31m---------------------------------------------------------------------------\u001b[0m",
      "\u001b[1;31mOperationalError\u001b[0m                          Traceback (most recent call last)",
      "File \u001b[1;32mc:\\Users\\fitsl\\anaconda3\\envs\\SEE_BW\\Lib\\site-packages\\peewee.py:3844\u001b[0m, in \u001b[0;36mSqliteDatabase.commit\u001b[1;34m(self)\u001b[0m\n\u001b[0;32m   3843\u001b[0m \u001b[38;5;28;01mwith\u001b[39;00m __exception_wrapper__:\n\u001b[1;32m-> 3844\u001b[0m     \u001b[38;5;28;01mreturn\u001b[39;00m \u001b[38;5;28mself\u001b[39m\u001b[38;5;241m.\u001b[39m_state\u001b[38;5;241m.\u001b[39mconn\u001b[38;5;241m.\u001b[39mcommit()\n",
      "\u001b[1;31mOperationalError\u001b[0m: database is locked",
      "\nDuring handling of the above exception, another exception occurred:\n",
      "\u001b[1;31mOperationalError\u001b[0m                          Traceback (most recent call last)",
      "File \u001b[1;32mc:\\Users\\fitsl\\anaconda3\\envs\\SEE_BW\\Lib\\site-packages\\bw2data\\backends\\base.py:537\u001b[0m, in \u001b[0;36mSQLiteBackend.write\u001b[1;34m(self, data, process, searchable)\u001b[0m\n\u001b[0;32m    536\u001b[0m \u001b[38;5;28;01mtry\u001b[39;00m:\n\u001b[1;32m--> 537\u001b[0m     \u001b[38;5;28mself\u001b[39m\u001b[38;5;241m.\u001b[39m_efficient_write_many_data(data)\n\u001b[0;32m    538\u001b[0m \u001b[38;5;28;01mexcept\u001b[39;00m:\n\u001b[0;32m    539\u001b[0m     \u001b[38;5;66;03m# Purge all data from database, then reraise\u001b[39;00m\n",
      "File \u001b[1;32mc:\\Users\\fitsl\\anaconda3\\envs\\SEE_BW\\Lib\\site-packages\\bw2data\\backends\\base.py:469\u001b[0m, in \u001b[0;36mSQLiteBackend._efficient_write_many_data\u001b[1;34m(self, data, indices)\u001b[0m\n\u001b[0;32m    468\u001b[0m \u001b[38;5;28;01mif\u001b[39;00m be_complicated:\n\u001b[1;32m--> 469\u001b[0m     \u001b[38;5;28mself\u001b[39m\u001b[38;5;241m.\u001b[39m_drop_indices()\n\u001b[0;32m    470\u001b[0m sqlite3_lci_db\u001b[38;5;241m.\u001b[39mdb\u001b[38;5;241m.\u001b[39mautocommit \u001b[38;5;241m=\u001b[39m \u001b[38;5;28;01mFalse\u001b[39;00m\n",
      "File \u001b[1;32mc:\\Users\\fitsl\\anaconda3\\envs\\SEE_BW\\Lib\\site-packages\\bw2data\\backends\\base.py:412\u001b[0m, in \u001b[0;36mSQLiteBackend._drop_indices\u001b[1;34m(self)\u001b[0m\n\u001b[0;32m    411\u001b[0m \u001b[38;5;28;01mdef\u001b[39;00m \u001b[38;5;21m_drop_indices\u001b[39m(\u001b[38;5;28mself\u001b[39m):\n\u001b[1;32m--> 412\u001b[0m     \u001b[38;5;28;01mwith\u001b[39;00m sqlite3_lci_db\u001b[38;5;241m.\u001b[39mtransaction():\n\u001b[0;32m    413\u001b[0m         sqlite3_lci_db\u001b[38;5;241m.\u001b[39mexecute_sql(\u001b[38;5;124m'\u001b[39m\u001b[38;5;124mDROP INDEX IF EXISTS \u001b[39m\u001b[38;5;124m\"\u001b[39m\u001b[38;5;124mactivitydataset_key\u001b[39m\u001b[38;5;124m\"\u001b[39m\u001b[38;5;124m'\u001b[39m)\n",
      "File \u001b[1;32mc:\\Users\\fitsl\\anaconda3\\envs\\SEE_BW\\Lib\\site-packages\\peewee.py:4508\u001b[0m, in \u001b[0;36m_transaction.__exit__\u001b[1;34m(self, exc_type, exc_val, exc_tb)\u001b[0m\n\u001b[0;32m   4507\u001b[0m \u001b[38;5;28;01mtry\u001b[39;00m:\n\u001b[1;32m-> 4508\u001b[0m     \u001b[38;5;28mself\u001b[39m\u001b[38;5;241m.\u001b[39mcommit(\u001b[38;5;28;01mFalse\u001b[39;00m)\n\u001b[0;32m   4509\u001b[0m \u001b[38;5;28;01mexcept\u001b[39;00m:\n",
      "File \u001b[1;32mc:\\Users\\fitsl\\anaconda3\\envs\\SEE_BW\\Lib\\site-packages\\peewee.py:4486\u001b[0m, in \u001b[0;36m_transaction.commit\u001b[1;34m(self, begin)\u001b[0m\n\u001b[0;32m   4485\u001b[0m \u001b[38;5;28;01mdef\u001b[39;00m \u001b[38;5;21mcommit\u001b[39m(\u001b[38;5;28mself\u001b[39m, begin\u001b[38;5;241m=\u001b[39m\u001b[38;5;28;01mTrue\u001b[39;00m):\n\u001b[1;32m-> 4486\u001b[0m     \u001b[38;5;28mself\u001b[39m\u001b[38;5;241m.\u001b[39mdb\u001b[38;5;241m.\u001b[39mcommit()\n\u001b[0;32m   4487\u001b[0m     \u001b[38;5;28;01mif\u001b[39;00m begin:\n",
      "File \u001b[1;32mc:\\Users\\fitsl\\anaconda3\\envs\\SEE_BW\\Lib\\site-packages\\peewee.py:3843\u001b[0m, in \u001b[0;36mSqliteDatabase.commit\u001b[1;34m(self)\u001b[0m\n\u001b[0;32m   3842\u001b[0m \u001b[38;5;28;01mdef\u001b[39;00m \u001b[38;5;21mcommit\u001b[39m(\u001b[38;5;28mself\u001b[39m):\n\u001b[1;32m-> 3843\u001b[0m     \u001b[38;5;28;01mwith\u001b[39;00m __exception_wrapper__:\n\u001b[0;32m   3844\u001b[0m         \u001b[38;5;28;01mreturn\u001b[39;00m \u001b[38;5;28mself\u001b[39m\u001b[38;5;241m.\u001b[39m_state\u001b[38;5;241m.\u001b[39mconn\u001b[38;5;241m.\u001b[39mcommit()\n",
      "File \u001b[1;32mc:\\Users\\fitsl\\anaconda3\\envs\\SEE_BW\\Lib\\site-packages\\peewee.py:3088\u001b[0m, in \u001b[0;36mExceptionWrapper.__exit__\u001b[1;34m(self, exc_type, exc_value, traceback)\u001b[0m\n\u001b[0;32m   3087\u001b[0m exc_args \u001b[38;5;241m=\u001b[39m exc_value\u001b[38;5;241m.\u001b[39margs\n\u001b[1;32m-> 3088\u001b[0m reraise(new_type, new_type(exc_value, \u001b[38;5;241m*\u001b[39mexc_args), traceback)\n",
      "File \u001b[1;32mc:\\Users\\fitsl\\anaconda3\\envs\\SEE_BW\\Lib\\site-packages\\peewee.py:196\u001b[0m, in \u001b[0;36mreraise\u001b[1;34m(tp, value, tb)\u001b[0m\n\u001b[0;32m    195\u001b[0m \u001b[38;5;28;01mif\u001b[39;00m value\u001b[38;5;241m.\u001b[39m__traceback__ \u001b[38;5;129;01mis\u001b[39;00m \u001b[38;5;129;01mnot\u001b[39;00m tb:\n\u001b[1;32m--> 196\u001b[0m     \u001b[38;5;28;01mraise\u001b[39;00m value\u001b[38;5;241m.\u001b[39mwith_traceback(tb)\n\u001b[0;32m    197\u001b[0m \u001b[38;5;28;01mraise\u001b[39;00m value\n",
      "File \u001b[1;32mc:\\Users\\fitsl\\anaconda3\\envs\\SEE_BW\\Lib\\site-packages\\peewee.py:3844\u001b[0m, in \u001b[0;36mSqliteDatabase.commit\u001b[1;34m(self)\u001b[0m\n\u001b[0;32m   3843\u001b[0m \u001b[38;5;28;01mwith\u001b[39;00m __exception_wrapper__:\n\u001b[1;32m-> 3844\u001b[0m     \u001b[38;5;28;01mreturn\u001b[39;00m \u001b[38;5;28mself\u001b[39m\u001b[38;5;241m.\u001b[39m_state\u001b[38;5;241m.\u001b[39mconn\u001b[38;5;241m.\u001b[39mcommit()\n",
      "\u001b[1;31mOperationalError\u001b[0m: database is locked",
      "\nDuring handling of the above exception, another exception occurred:\n",
      "\u001b[1;31mOperationalError\u001b[0m                          Traceback (most recent call last)",
      "File \u001b[1;32mc:\\Users\\fitsl\\anaconda3\\envs\\SEE_BW\\Lib\\site-packages\\peewee.py:3322\u001b[0m, in \u001b[0;36mDatabase.execute_sql\u001b[1;34m(self, sql, params, commit)\u001b[0m\n\u001b[0;32m   3321\u001b[0m     cursor \u001b[38;5;241m=\u001b[39m \u001b[38;5;28mself\u001b[39m\u001b[38;5;241m.\u001b[39mcursor()\n\u001b[1;32m-> 3322\u001b[0m     cursor\u001b[38;5;241m.\u001b[39mexecute(sql, params \u001b[38;5;129;01mor\u001b[39;00m ())\n\u001b[0;32m   3323\u001b[0m \u001b[38;5;28;01mreturn\u001b[39;00m cursor\n",
      "\u001b[1;31mOperationalError\u001b[0m: database is locked",
      "\nDuring handling of the above exception, another exception occurred:\n",
      "\u001b[1;31mOperationalError\u001b[0m                          Traceback (most recent call last)",
      "Cell \u001b[1;32mIn[10], line 10\u001b[0m\n\u001b[0;32m      8\u001b[0m \u001b[38;5;28;01melse\u001b[39;00m:\n\u001b[0;32m      9\u001b[0m     \u001b[38;5;28mprint\u001b[39m(\u001b[38;5;124m\"\u001b[39m\u001b[38;5;124mInitating ecoinvent download\u001b[39m\u001b[38;5;124m\"\u001b[39m)\n\u001b[1;32m---> 10\u001b[0m     bi\u001b[38;5;241m.\u001b[39mimport_ecoinvent_release(\n\u001b[0;32m     11\u001b[0m         version\u001b[38;5;241m=\u001b[39m\u001b[38;5;124m'\u001b[39m\u001b[38;5;124m3.11\u001b[39m\u001b[38;5;124m'\u001b[39m,\n\u001b[0;32m     12\u001b[0m         system_model\u001b[38;5;241m=\u001b[39m\u001b[38;5;124m'\u001b[39m\u001b[38;5;124mcutoff\u001b[39m\u001b[38;5;124m'\u001b[39m, \u001b[38;5;66;03m# can be cutoff / apos / consequential / EN15804\u001b[39;00m\n\u001b[0;32m     13\u001b[0m         username\u001b[38;5;241m=\u001b[39mECOINVENT_USER,\n\u001b[0;32m     14\u001b[0m         password\u001b[38;5;241m=\u001b[39mECOINVENT_PASS\n\u001b[0;32m     15\u001b[0m     )\n\u001b[0;32m     16\u001b[0m     \u001b[38;5;28mprint\u001b[39m(\u001b[38;5;124m\"\u001b[39m\u001b[38;5;124mDownload complete\u001b[39m\u001b[38;5;124m\"\u001b[39m)\n\u001b[0;32m     18\u001b[0m \u001b[38;5;28mlist\u001b[39m(bd\u001b[38;5;241m.\u001b[39mdatabases)\n",
      "File \u001b[1;32mc:\\Users\\fitsl\\anaconda3\\envs\\SEE_BW\\Lib\\site-packages\\bw2io\\ecoinvent.py:248\u001b[0m, in \u001b[0;36mimport_ecoinvent_release\u001b[1;34m(version, system_model, username, password, lci, lcia, biosphere_name, biosphere_write_mode, importer_signal)\u001b[0m\n\u001b[0;32m    244\u001b[0m     \u001b[38;5;28;01mif\u001b[39;00m \u001b[38;5;129;01mnot\u001b[39;00m soup\u001b[38;5;241m.\u001b[39mall_linked:\n\u001b[0;32m    245\u001b[0m         \u001b[38;5;28;01mraise\u001b[39;00m \u001b[38;5;167;01mValueError\u001b[39;00m(\n\u001b[0;32m    246\u001b[0m             \u001b[38;5;124mf\u001b[39m\u001b[38;5;124m\"\u001b[39m\u001b[38;5;124mCan\u001b[39m\u001b[38;5;124m'\u001b[39m\u001b[38;5;124mt ingest inventory database \u001b[39m\u001b[38;5;132;01m{\u001b[39;00mdb_name\u001b[38;5;132;01m}\u001b[39;00m\u001b[38;5;124m - unlinked flows.\u001b[39m\u001b[38;5;124m\"\u001b[39m\n\u001b[0;32m    247\u001b[0m         )\n\u001b[1;32m--> 248\u001b[0m     soup\u001b[38;5;241m.\u001b[39mwrite_database()\n\u001b[0;32m    250\u001b[0m \u001b[38;5;28;01mif\u001b[39;00m lcia:\n\u001b[0;32m    251\u001b[0m     subversion \u001b[38;5;241m=\u001b[39m \u001b[38;5;28mint\u001b[39m(version\u001b[38;5;241m.\u001b[39msplit(\u001b[38;5;124m\"\u001b[39m\u001b[38;5;124m.\u001b[39m\u001b[38;5;124m\"\u001b[39m)[\u001b[38;5;241m1\u001b[39m])\n",
      "File \u001b[1;32mc:\\Users\\fitsl\\anaconda3\\envs\\SEE_BW\\Lib\\site-packages\\bw2io\\importers\\base_lci.py:278\u001b[0m, in \u001b[0;36mLCIImporter.write_database\u001b[1;34m(self, data, delete_existing, backend, activate_parameters, db_name, searchable, **kwargs)\u001b[0m\n\u001b[0;32m    275\u001b[0m \u001b[38;5;28mself\u001b[39m\u001b[38;5;241m.\u001b[39mwrite_database_parameters(activate_parameters, delete_existing)\n\u001b[0;32m    277\u001b[0m existing\u001b[38;5;241m.\u001b[39mupdate(data)\n\u001b[1;32m--> 278\u001b[0m db\u001b[38;5;241m.\u001b[39mwrite(existing, searchable\u001b[38;5;241m=\u001b[39msearchable)\n\u001b[0;32m    280\u001b[0m \u001b[38;5;28;01mif\u001b[39;00m activate_parameters:\n\u001b[0;32m    281\u001b[0m     \u001b[38;5;28mself\u001b[39m\u001b[38;5;241m.\u001b[39m_write_activity_parameters(activity_parameters)\n",
      "File \u001b[1;32mc:\\Users\\fitsl\\anaconda3\\envs\\SEE_BW\\Lib\\site-packages\\bw2data\\project.py:422\u001b[0m, in \u001b[0;36mwritable_project\u001b[1;34m(wrapped, instance, args, kwargs)\u001b[0m\n\u001b[0;32m    419\u001b[0m \u001b[38;5;129m@wrapt\u001b[39m\u001b[38;5;241m.\u001b[39mdecorator\n\u001b[0;32m    420\u001b[0m \u001b[38;5;28;01mdef\u001b[39;00m \u001b[38;5;21mwritable_project\u001b[39m(wrapped, instance, args, kwargs):\n\u001b[0;32m    421\u001b[0m     warnings\u001b[38;5;241m.\u001b[39mwarn(\u001b[38;5;124m\"\u001b[39m\u001b[38;5;124m`writable_project` is obsolete and does nothing\u001b[39m\u001b[38;5;124m\"\u001b[39m, \u001b[38;5;167;01mDeprecationWarning\u001b[39;00m)\n\u001b[1;32m--> 422\u001b[0m     \u001b[38;5;28;01mreturn\u001b[39;00m wrapped(\u001b[38;5;241m*\u001b[39margs, \u001b[38;5;241m*\u001b[39m\u001b[38;5;241m*\u001b[39mkwargs)\n",
      "File \u001b[1;32mc:\\Users\\fitsl\\anaconda3\\envs\\SEE_BW\\Lib\\site-packages\\bw2data\\backends\\base.py:540\u001b[0m, in \u001b[0;36mSQLiteBackend.write\u001b[1;34m(self, data, process, searchable)\u001b[0m\n\u001b[0;32m    537\u001b[0m         \u001b[38;5;28mself\u001b[39m\u001b[38;5;241m.\u001b[39m_efficient_write_many_data(data)\n\u001b[0;32m    538\u001b[0m     \u001b[38;5;28;01mexcept\u001b[39;00m:\n\u001b[0;32m    539\u001b[0m         \u001b[38;5;66;03m# Purge all data from database, then reraise\u001b[39;00m\n\u001b[1;32m--> 540\u001b[0m         \u001b[38;5;28mself\u001b[39m\u001b[38;5;241m.\u001b[39mdelete(warn\u001b[38;5;241m=\u001b[39m\u001b[38;5;28;01mFalse\u001b[39;00m)\n\u001b[0;32m    541\u001b[0m         \u001b[38;5;28;01mraise\u001b[39;00m\n\u001b[0;32m    543\u001b[0m \u001b[38;5;28;01mif\u001b[39;00m searchable:\n",
      "File \u001b[1;32mc:\\Users\\fitsl\\anaconda3\\envs\\SEE_BW\\Lib\\site-packages\\bw2data\\project.py:422\u001b[0m, in \u001b[0;36mwritable_project\u001b[1;34m(wrapped, instance, args, kwargs)\u001b[0m\n\u001b[0;32m    419\u001b[0m \u001b[38;5;129m@wrapt\u001b[39m\u001b[38;5;241m.\u001b[39mdecorator\n\u001b[0;32m    420\u001b[0m \u001b[38;5;28;01mdef\u001b[39;00m \u001b[38;5;21mwritable_project\u001b[39m(wrapped, instance, args, kwargs):\n\u001b[0;32m    421\u001b[0m     warnings\u001b[38;5;241m.\u001b[39mwarn(\u001b[38;5;124m\"\u001b[39m\u001b[38;5;124m`writable_project` is obsolete and does nothing\u001b[39m\u001b[38;5;124m\"\u001b[39m, \u001b[38;5;167;01mDeprecationWarning\u001b[39;00m)\n\u001b[1;32m--> 422\u001b[0m     \u001b[38;5;28;01mreturn\u001b[39;00m wrapped(\u001b[38;5;241m*\u001b[39margs, \u001b[38;5;241m*\u001b[39m\u001b[38;5;241m*\u001b[39mkwargs)\n",
      "File \u001b[1;32mc:\\Users\\fitsl\\anaconda3\\envs\\SEE_BW\\Lib\\site-packages\\bw2data\\backends\\base.py:632\u001b[0m, in \u001b[0;36mSQLiteBackend.delete\u001b[1;34m(self, keep_params, warn, vacuum)\u001b[0m\n\u001b[0;32m    628\u001b[0m     warnings\u001b[38;5;241m.\u001b[39mwarn(MESSAGE\u001b[38;5;241m.\u001b[39mformat(\u001b[38;5;28mself\u001b[39m\u001b[38;5;241m.\u001b[39mname), \u001b[38;5;167;01mUserWarning\u001b[39;00m)\n\u001b[0;32m    630\u001b[0m vacuum_needed \u001b[38;5;241m=\u001b[39m \u001b[38;5;28mlen\u001b[39m(\u001b[38;5;28mself\u001b[39m) \u001b[38;5;241m>\u001b[39m \u001b[38;5;241m500\u001b[39m \u001b[38;5;129;01mand\u001b[39;00m vacuum\n\u001b[1;32m--> 632\u001b[0m ActivityDataset\u001b[38;5;241m.\u001b[39mdelete()\u001b[38;5;241m.\u001b[39mwhere(ActivityDataset\u001b[38;5;241m.\u001b[39mdatabase \u001b[38;5;241m==\u001b[39m \u001b[38;5;28mself\u001b[39m\u001b[38;5;241m.\u001b[39mname)\u001b[38;5;241m.\u001b[39mexecute()\n\u001b[0;32m    633\u001b[0m ExchangeDataset\u001b[38;5;241m.\u001b[39mdelete()\u001b[38;5;241m.\u001b[39mwhere(\n\u001b[0;32m    634\u001b[0m     ExchangeDataset\u001b[38;5;241m.\u001b[39moutput_database \u001b[38;5;241m==\u001b[39m \u001b[38;5;28mself\u001b[39m\u001b[38;5;241m.\u001b[39mname\n\u001b[0;32m    635\u001b[0m )\u001b[38;5;241m.\u001b[39mexecute()\n\u001b[0;32m    636\u001b[0m IndexManager(\u001b[38;5;28mself\u001b[39m\u001b[38;5;241m.\u001b[39mfilename)\u001b[38;5;241m.\u001b[39mdelete_database()\n",
      "File \u001b[1;32mc:\\Users\\fitsl\\anaconda3\\envs\\SEE_BW\\Lib\\site-packages\\peewee.py:2036\u001b[0m, in \u001b[0;36mdatabase_required.<locals>.inner\u001b[1;34m(self, database, *args, **kwargs)\u001b[0m\n\u001b[0;32m   2033\u001b[0m \u001b[38;5;28;01mif\u001b[39;00m \u001b[38;5;129;01mnot\u001b[39;00m database:\n\u001b[0;32m   2034\u001b[0m     \u001b[38;5;28;01mraise\u001b[39;00m InterfaceError(\u001b[38;5;124m'\u001b[39m\u001b[38;5;124mQuery must be bound to a database in order \u001b[39m\u001b[38;5;124m'\u001b[39m\n\u001b[0;32m   2035\u001b[0m                          \u001b[38;5;124m'\u001b[39m\u001b[38;5;124mto call \u001b[39m\u001b[38;5;124m\"\u001b[39m\u001b[38;5;132;01m%s\u001b[39;00m\u001b[38;5;124m\"\u001b[39m\u001b[38;5;124m.\u001b[39m\u001b[38;5;124m'\u001b[39m \u001b[38;5;241m%\u001b[39m method\u001b[38;5;241m.\u001b[39m\u001b[38;5;18m__name__\u001b[39m)\n\u001b[1;32m-> 2036\u001b[0m \u001b[38;5;28;01mreturn\u001b[39;00m method(\u001b[38;5;28mself\u001b[39m, database, \u001b[38;5;241m*\u001b[39margs, \u001b[38;5;241m*\u001b[39m\u001b[38;5;241m*\u001b[39mkwargs)\n",
      "File \u001b[1;32mc:\\Users\\fitsl\\anaconda3\\envs\\SEE_BW\\Lib\\site-packages\\peewee.py:2107\u001b[0m, in \u001b[0;36mBaseQuery.execute\u001b[1;34m(self, database)\u001b[0m\n\u001b[0;32m   2105\u001b[0m \u001b[38;5;129m@database_required\u001b[39m\n\u001b[0;32m   2106\u001b[0m \u001b[38;5;28;01mdef\u001b[39;00m \u001b[38;5;21mexecute\u001b[39m(\u001b[38;5;28mself\u001b[39m, database):\n\u001b[1;32m-> 2107\u001b[0m     \u001b[38;5;28;01mreturn\u001b[39;00m \u001b[38;5;28mself\u001b[39m\u001b[38;5;241m.\u001b[39m_execute(database)\n",
      "File \u001b[1;32mc:\\Users\\fitsl\\anaconda3\\envs\\SEE_BW\\Lib\\site-packages\\peewee.py:2625\u001b[0m, in \u001b[0;36m_WriteQuery._execute\u001b[1;34m(self, database)\u001b[0m\n\u001b[0;32m   2623\u001b[0m     cursor \u001b[38;5;241m=\u001b[39m \u001b[38;5;28mself\u001b[39m\u001b[38;5;241m.\u001b[39mexecute_returning(database)\n\u001b[0;32m   2624\u001b[0m \u001b[38;5;28;01melse\u001b[39;00m:\n\u001b[1;32m-> 2625\u001b[0m     cursor \u001b[38;5;241m=\u001b[39m database\u001b[38;5;241m.\u001b[39mexecute(\u001b[38;5;28mself\u001b[39m)\n\u001b[0;32m   2626\u001b[0m \u001b[38;5;28;01mreturn\u001b[39;00m \u001b[38;5;28mself\u001b[39m\u001b[38;5;241m.\u001b[39mhandle_result(database, cursor)\n",
      "File \u001b[1;32mc:\\Users\\fitsl\\anaconda3\\envs\\SEE_BW\\Lib\\site-packages\\peewee.py:3330\u001b[0m, in \u001b[0;36mDatabase.execute\u001b[1;34m(self, query, commit, **context_options)\u001b[0m\n\u001b[0;32m   3328\u001b[0m ctx \u001b[38;5;241m=\u001b[39m \u001b[38;5;28mself\u001b[39m\u001b[38;5;241m.\u001b[39mget_sql_context(\u001b[38;5;241m*\u001b[39m\u001b[38;5;241m*\u001b[39mcontext_options)\n\u001b[0;32m   3329\u001b[0m sql, params \u001b[38;5;241m=\u001b[39m ctx\u001b[38;5;241m.\u001b[39msql(query)\u001b[38;5;241m.\u001b[39mquery()\n\u001b[1;32m-> 3330\u001b[0m \u001b[38;5;28;01mreturn\u001b[39;00m \u001b[38;5;28mself\u001b[39m\u001b[38;5;241m.\u001b[39mexecute_sql(sql, params)\n",
      "File \u001b[1;32mc:\\Users\\fitsl\\anaconda3\\envs\\SEE_BW\\Lib\\site-packages\\peewee.py:3320\u001b[0m, in \u001b[0;36mDatabase.execute_sql\u001b[1;34m(self, sql, params, commit)\u001b[0m\n\u001b[0;32m   3318\u001b[0m     __deprecated__(\u001b[38;5;124m'\u001b[39m\u001b[38;5;124m\"\u001b[39m\u001b[38;5;124mcommit\u001b[39m\u001b[38;5;124m\"\u001b[39m\u001b[38;5;124m has been deprecated and is a no-op.\u001b[39m\u001b[38;5;124m'\u001b[39m)\n\u001b[0;32m   3319\u001b[0m logger\u001b[38;5;241m.\u001b[39mdebug((sql, params))\n\u001b[1;32m-> 3320\u001b[0m \u001b[38;5;28;01mwith\u001b[39;00m __exception_wrapper__:\n\u001b[0;32m   3321\u001b[0m     cursor \u001b[38;5;241m=\u001b[39m \u001b[38;5;28mself\u001b[39m\u001b[38;5;241m.\u001b[39mcursor()\n\u001b[0;32m   3322\u001b[0m     cursor\u001b[38;5;241m.\u001b[39mexecute(sql, params \u001b[38;5;129;01mor\u001b[39;00m ())\n",
      "File \u001b[1;32mc:\\Users\\fitsl\\anaconda3\\envs\\SEE_BW\\Lib\\site-packages\\peewee.py:3088\u001b[0m, in \u001b[0;36mExceptionWrapper.__exit__\u001b[1;34m(self, exc_type, exc_value, traceback)\u001b[0m\n\u001b[0;32m   3086\u001b[0m new_type \u001b[38;5;241m=\u001b[39m \u001b[38;5;28mself\u001b[39m\u001b[38;5;241m.\u001b[39mexceptions[exc_type\u001b[38;5;241m.\u001b[39m\u001b[38;5;18m__name__\u001b[39m]\n\u001b[0;32m   3087\u001b[0m exc_args \u001b[38;5;241m=\u001b[39m exc_value\u001b[38;5;241m.\u001b[39margs\n\u001b[1;32m-> 3088\u001b[0m reraise(new_type, new_type(exc_value, \u001b[38;5;241m*\u001b[39mexc_args), traceback)\n",
      "File \u001b[1;32mc:\\Users\\fitsl\\anaconda3\\envs\\SEE_BW\\Lib\\site-packages\\peewee.py:196\u001b[0m, in \u001b[0;36mreraise\u001b[1;34m(tp, value, tb)\u001b[0m\n\u001b[0;32m    194\u001b[0m \u001b[38;5;28;01mdef\u001b[39;00m \u001b[38;5;21mreraise\u001b[39m(tp, value, tb\u001b[38;5;241m=\u001b[39m\u001b[38;5;28;01mNone\u001b[39;00m):\n\u001b[0;32m    195\u001b[0m     \u001b[38;5;28;01mif\u001b[39;00m value\u001b[38;5;241m.\u001b[39m__traceback__ \u001b[38;5;129;01mis\u001b[39;00m \u001b[38;5;129;01mnot\u001b[39;00m tb:\n\u001b[1;32m--> 196\u001b[0m         \u001b[38;5;28;01mraise\u001b[39;00m value\u001b[38;5;241m.\u001b[39mwith_traceback(tb)\n\u001b[0;32m    197\u001b[0m     \u001b[38;5;28;01mraise\u001b[39;00m value\n",
      "File \u001b[1;32mc:\\Users\\fitsl\\anaconda3\\envs\\SEE_BW\\Lib\\site-packages\\peewee.py:3322\u001b[0m, in \u001b[0;36mDatabase.execute_sql\u001b[1;34m(self, sql, params, commit)\u001b[0m\n\u001b[0;32m   3320\u001b[0m \u001b[38;5;28;01mwith\u001b[39;00m __exception_wrapper__:\n\u001b[0;32m   3321\u001b[0m     cursor \u001b[38;5;241m=\u001b[39m \u001b[38;5;28mself\u001b[39m\u001b[38;5;241m.\u001b[39mcursor()\n\u001b[1;32m-> 3322\u001b[0m     cursor\u001b[38;5;241m.\u001b[39mexecute(sql, params \u001b[38;5;129;01mor\u001b[39;00m ())\n\u001b[0;32m   3323\u001b[0m \u001b[38;5;28;01mreturn\u001b[39;00m cursor\n",
      "\u001b[1;31mOperationalError\u001b[0m: database is locked"
     ]
    }
   ],
   "source": [
    "print(\"Active projects: \", bd.projects)\n",
    "\n",
    "bd.projects.set_current('SEE_LAB') \n",
    "print(\"Databases: \", bd.databases)# check if there are databases in the project, and how they are named. \n",
    "\n",
    "if 'ecoinvent-3.11-cutoff' in bd.databases:\n",
    "    print('ecoinvent 3.11 is already present in the project')\n",
    "else:\n",
    "    print(\"Initating ecoinvent download\")\n",
    "    bi.import_ecoinvent_release(\n",
    "        version='3.11',\n",
    "        system_model='cutoff', # can be cutoff / apos / consequential / EN15804\n",
    "        username=ECOINVENT_USER,\n",
    "        password=ECOINVENT_PASS\n",
    "    )\n",
    "    print(\"Download complete\")\n",
    "\n",
    "list(bd.databases) # check if there are databases in the project, and how they are named. "
   ]
  }
 ],
 "metadata": {
  "kernelspec": {
   "display_name": "SEE_BW",
   "language": "python",
   "name": "python3"
  },
  "language_info": {
   "codemirror_mode": {
    "name": "ipython",
    "version": 3
   },
   "file_extension": ".py",
   "mimetype": "text/x-python",
   "name": "python",
   "nbconvert_exporter": "python",
   "pygments_lexer": "ipython3",
   "version": "3.13.1"
  }
 },
 "nbformat": 4,
 "nbformat_minor": 2
}
