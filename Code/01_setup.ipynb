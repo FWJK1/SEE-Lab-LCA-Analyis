{
 "cells": [
  {
   "cell_type": "markdown",
   "metadata": {},
   "source": [
    "# 1. Setup"
   ]
  },
  {
   "cell_type": "code",
   "execution_count": 22,
   "metadata": {},
   "outputs": [],
   "source": [
    "import bw2io as bi\n",
    "import bw2data as bd\n",
    "import bw2calc as bc\n",
    "import json\n",
    "import git"
   ]
  },
  {
   "cell_type": "code",
   "execution_count": 23,
   "metadata": {},
   "outputs": [],
   "source": [
    "def get_git_root():\n",
    "    repo = git.Repo(search_parent_directories=True)\n",
    "    return repo.git.rev_parse(\"--show-toplevel\")\n",
    "root = get_git_root()"
   ]
  },
  {
   "cell_type": "code",
   "execution_count": 8,
   "metadata": {},
   "outputs": [],
   "source": [
    "## get our secrets \n",
    "with open(f\"{root}/secrets/passwords.json\", 'r') as file:\n",
    "    data = json.load(file)\n",
    "\n",
    "ECOINVENT_USER = data['ecoinvent_username']\n",
    "ECOINVENT_PASS = data['ecoinvent_password']"
   ]
  },
  {
   "cell_type": "markdown",
   "metadata": {},
   "source": [
    "# 2. Load Brightway Databases"
   ]
  },
  {
   "cell_type": "code",
   "execution_count": 31,
   "metadata": {},
   "outputs": [
    {
     "name": "stdout",
     "output_type": "stream",
     "text": [
      "Active projects:  Brightway2 projects manager with 3 objects:\n",
      "\tSEE_LAB\n",
      "\tbw25-tuto\n",
      "\tdefault\n",
      "Use `projects.report()` to get a report on all projects.\n",
      "Databases:  Databases dictionary with 4 object(s):\n",
      "\tecoinvent-3.11-biosphere\n",
      "\tecoinvent-3.11-cutoff\n",
      "\tecoinvent-3.9.1-biosphere\n",
      "\tecoinvent-3.9.1-cutoff\n",
      "ecoinvent 3.9.1 is already present in the project\n"
     ]
    },
    {
     "data": {
      "text/plain": [
       "['ecoinvent-3.9.1-biosphere',\n",
       " 'ecoinvent-3.9.1-cutoff',\n",
       " 'ecoinvent-3.11-biosphere',\n",
       " 'ecoinvent-3.11-cutoff']"
      ]
     },
     "execution_count": 31,
     "metadata": {},
     "output_type": "execute_result"
    }
   ],
   "source": [
    "print(\"Active projects: \", bd.projects)\n",
    "\n",
    "bd.projects.set_current('SEE_LAB')\n",
    "print(\"Databases: \", bd.databases)# check if there are databases in the project, and how they are named. \n",
    "\n",
    "if 'ecoinvent-3.9.1-cutoff' in bd.databases:\n",
    "    print('ecoinvent 3.9.1 is already present in the project')\n",
    "else:\n",
    "    print(\"Initating ecoinvent download\")\n",
    "    bi.import_ecoinvent_release(\n",
    "        version='3.9.1',\n",
    "        system_model='cutoff', # can be cutoff / apos / consequential / EN15804\n",
    "        username=ECOINVENT_USER,\n",
    "        password=ECOINVENT_PASS\n",
    "    )\n",
    "    print(\"Download complete\")\n",
    "\n",
    "list(bd.databases) # check if there are databases in the project, and how they are named. "
   ]
  },
  {
   "cell_type": "markdown",
   "metadata": {},
   "source": [
    "Now we select our project from the list. If this is the first time running this script, we also have to download it using our secret username and password."
   ]
  },
  {
   "cell_type": "code",
   "execution_count": 32,
   "metadata": {},
   "outputs": [
    {
     "name": "stdout",
     "output_type": "stream",
     "text": [
      "Active projects:  Brightway2 projects manager with 3 objects:\n",
      "\tSEE_LAB\n",
      "\tbw25-tuto\n",
      "\tdefault\n",
      "Use `projects.report()` to get a report on all projects.\n",
      "Databases:  Databases dictionary with 4 object(s):\n",
      "\tecoinvent-3.11-biosphere\n",
      "\tecoinvent-3.11-cutoff\n",
      "\tecoinvent-3.9.1-biosphere\n",
      "\tecoinvent-3.9.1-cutoff\n",
      "ecoinvent 3.11 is already present in the project\n"
     ]
    },
    {
     "data": {
      "text/plain": [
       "['ecoinvent-3.9.1-biosphere',\n",
       " 'ecoinvent-3.9.1-cutoff',\n",
       " 'ecoinvent-3.11-biosphere',\n",
       " 'ecoinvent-3.11-cutoff']"
      ]
     },
     "execution_count": 32,
     "metadata": {},
     "output_type": "execute_result"
    }
   ],
   "source": [
    "print(\"Active projects: \", bd.projects)\n",
    "\n",
    "bd.projects.set_current('SEE_LAB') \n",
    "print(\"Databases: \", bd.databases)# check if there are databases in the project, and how they are named. \n",
    "\n",
    "if 'ecoinvent-3.11-cutoff' in bd.databases:\n",
    "    print('ecoinvent 3.11 is already present in the project')\n",
    "else:\n",
    "    print(\"Initating ecoinvent download\")\n",
    "    bi.import_ecoinvent_release(\n",
    "        version='3.11',\n",
    "        system_model='cutoff', # can be cutoff / apos / consequential / EN15804\n",
    "        username=ECOINVENT_USER,\n",
    "        password=ECOINVENT_PASS\n",
    "    )\n",
    "    print(\"Download complete\")\n",
    "\n",
    "list(bd.databases) # check if there are databases in the project, and how they are named. "
   ]
  },
  {
   "cell_type": "code",
   "execution_count": 33,
   "metadata": {},
   "outputs": [
    {
     "name": "stdout",
     "output_type": "stream",
     "text": [
      "Active projects:  Brightway2 projects manager with 3 objects:\n",
      "\tSEE_LAB\n",
      "\tbw25-tuto\n",
      "\tdefault\n",
      "Use `projects.report()` to get a report on all projects.\n"
     ]
    },
    {
     "data": {
      "text/plain": [
       "Databases dictionary with 4 object(s):\n",
       "\tecoinvent-3.11-biosphere\n",
       "\tecoinvent-3.11-cutoff\n",
       "\tecoinvent-3.9.1-biosphere\n",
       "\tecoinvent-3.9.1-cutoff"
      ]
     },
     "execution_count": 33,
     "metadata": {},
     "output_type": "execute_result"
    }
   ],
   "source": [
    "print(\"Active projects: \", bd.projects)\n",
    "bd.databases"
   ]
  },
  {
   "cell_type": "markdown",
   "metadata": {},
   "source": [
    "# 3. Delete Brightway Databases (if needed)"
   ]
  },
  {
   "cell_type": "code",
   "execution_count": null,
   "metadata": {},
   "outputs": [],
   "source": [
    "## Uncomment if needed\n",
    "\n",
    "# bd.projects.set_current('SEE_LAB')\n",
    "# db_name = \"INSERT HERE\"\n",
    "\n",
    "# databases = bd.databases\n",
    "# del databases[db_name]\n",
    "# print(databases) "
   ]
  }
 ],
 "metadata": {
  "kernelspec": {
   "display_name": "SEE_BW",
   "language": "python",
   "name": "python3"
  },
  "language_info": {
   "codemirror_mode": {
    "name": "ipython",
    "version": 3
   },
   "file_extension": ".py",
   "mimetype": "text/x-python",
   "name": "python",
   "nbconvert_exporter": "python",
   "pygments_lexer": "ipython3",
   "version": "3.13.1"
  }
 },
 "nbformat": 4,
 "nbformat_minor": 2
}
