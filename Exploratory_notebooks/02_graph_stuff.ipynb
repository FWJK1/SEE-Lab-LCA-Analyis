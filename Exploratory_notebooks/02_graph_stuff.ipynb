{
 "cells": [
  {
   "cell_type": "markdown",
   "metadata": {},
   "source": [
    "# Setup\n",
    "## Import and Git"
   ]
  },
  {
   "cell_type": "code",
   "execution_count": 147,
   "metadata": {},
   "outputs": [],
   "source": [
    "import bw2io as bi\n",
    "import bw2data as bd\n",
    "import bw2calc as bc\n",
    "import git\n",
    "\n",
    "import networkx as nx\n",
    "import random\n",
    "from collections import defaultdict\n",
    "from matplotlib import pyplot as plt \n",
    "import json\n",
    "import pandas as pd\n",
    "import seaborn as sns\n",
    "import numpy as np"
   ]
  },
  {
   "cell_type": "code",
   "execution_count": 68,
   "metadata": {},
   "outputs": [],
   "source": [
    "def get_git_root():\n",
    "    repo = git.Repo(search_parent_directories=True)\n",
    "    return repo.git.rev_parse(\"--show-toplevel\")\n",
    "root = get_git_root()"
   ]
  },
  {
   "cell_type": "markdown",
   "metadata": {},
   "source": [
    "## Brightway setup"
   ]
  },
  {
   "cell_type": "code",
   "execution_count": 69,
   "metadata": {},
   "outputs": [],
   "source": [
    "bd.projects.set_current('SEE_LAB') \n",
    "eidb = bd.Database(\"ecoinvent-3.9.1-cutoff\")"
   ]
  },
  {
   "cell_type": "markdown",
   "metadata": {},
   "source": [
    "# Exploration\n",
    "\n",
    "## Brightway structure"
   ]
  },
  {
   "cell_type": "code",
   "execution_count": 70,
   "metadata": {},
   "outputs": [
    {
     "data": {
      "text/plain": [
       "{'comment': \"The dataset describes the production of portland cement clinker; in the production different types of alterantive fuels and raw materials are used. As the use of a alternative fuel/material can vary considerably between different years, this dataset covers the period from 2005 to 2009.\\n[Dataset to be replaced by 'clinker production, Europe without Switzerland and Austria, 1998 - 2003' (fe79e31a-48fe-4b33-9185-df322971b26b)]\\nIncluded activities start:  From the reception of traditional and alternative fuels and raw materials at the factory gate.\\nIncluded activities end:  This activity ends with the cooling of the produced clinker. It includes the whole manufacturing process to produce clinker (raw material provision, grinding and mixing; rotary kiln process), internal processes (transport, etc.) and for the infrastructure only the rotary kiln (material consumption) is taken into account. No administration is included. Waste (as secondary fuel and raw material) enter the system without environmental burdens from upstream processes. \\nGeography:  For some exchanges European and Swiss data have been used as proxy.\",\n",
       " 'classifications': [('ISIC rev.4 ecoinvent',\n",
       "   '2394:Manufacture of cement, lime and plaster'),\n",
       "  ('EcoSpold01Categories', 'construction materials/binder'),\n",
       "  ('CPC', '39: Wastes or scraps')],\n",
       " 'activity type': 'ordinary transforming activity',\n",
       " 'activity': '44d88162-1b58-5142-84e0-90d6a44b7ea7',\n",
       " 'database': 'ecoinvent-3.9.1-cutoff',\n",
       " 'filename': '44d88162-1b58-5142-84e0-90d6a44b7ea7_3a91cb7d-843b-495d-9973-33ba5efee877.spold',\n",
       " 'location': 'Europe without Switzerland',\n",
       " 'name': 'clinker production',\n",
       " 'synonyms': ['Klinker',\n",
       "  'clinker',\n",
       "  'Zement',\n",
       "  'Drehrohrofen',\n",
       "  'rotary kiln',\n",
       "  'cement'],\n",
       " 'parameters': [{'description': 'fraction, process water, to air',\n",
       "   'id': 'daadf2d4-7bbb-4f69-8ab5-58df4c1685eb',\n",
       "   'unit': 'dimensionless',\n",
       "   'comment': 'Literature value. In case when no industry/process specific data are available, default evaporation fraction value is used. This value is 15% and is based on literature (Statistics Canada, 2007 & Shaffer, K.H., 2008, Consumptive water use in the Great Lakes Basin, USGS & Shiklomanov, 2003, World Water Resources at the Beginning of the 21st Century) and has been approved by an expert.',\n",
       "   'amount': 0.15,\n",
       "   'pedigree': {'reliability': 4,\n",
       "    'completeness': 4,\n",
       "    'temporal correlation': 3,\n",
       "    'geographical correlation': 2,\n",
       "    'further technological correlation': 4},\n",
       "   'uncertainty type': 2,\n",
       "   'loc': -1.9,\n",
       "   'scale': 0.30335622624235026,\n",
       "   'scale without pedigree': 0.2,\n",
       "   'name': 'fraction_PW_to_air'},\n",
       "  {'description': 'fraction, tap water, to air',\n",
       "   'id': '148c8010-cc60-48cd-9b40-fc7278e377f7',\n",
       "   'unit': 'dimensionless',\n",
       "   'comment': 'Calculated value. See comment in the other parametres present in this dataset. Tap water is considered to be always used as process water, thus process water fractions to air are applied to all tap water input flows to calculate the amount of water consumed in the processes.',\n",
       "   'amount': 0.15,\n",
       "   'pedigree': {'reliability': 4,\n",
       "    'completeness': 4,\n",
       "    'temporal correlation': 3,\n",
       "    'geographical correlation': 2,\n",
       "    'further technological correlation': 4},\n",
       "   'uncertainty type': 2,\n",
       "   'loc': -1.9,\n",
       "   'scale': 0.30335622624235026,\n",
       "   'scale without pedigree': 0.2,\n",
       "   'name': 'fraction_TW_to_air'}],\n",
       " 'authors': {'data entry': {'name': 'Frank Werner',\n",
       "   'email': 'frank@frankwerner.ch'},\n",
       "  'data generator': {'name': 'Gregor Wernet',\n",
       "   'email': 'wernet@ecoinvent.org'}},\n",
       " 'type': 'process',\n",
       " 'reference product': 'inert waste',\n",
       " 'flow': '3a91cb7d-843b-495d-9973-33ba5efee877',\n",
       " 'unit': 'kilogram',\n",
       " 'production amount': -1.0,\n",
       " 'code': '1ef033e35aa7115f1413c7d2d032de5c',\n",
       " 'id': 10451}"
      ]
     },
     "execution_count": 70,
     "metadata": {},
     "output_type": "execute_result"
    }
   ],
   "source": [
    "random_act = eidb.random()\n",
    "random_act.as_dict()"
   ]
  },
  {
   "cell_type": "code",
   "execution_count": 71,
   "metadata": {},
   "outputs": [
    {
     "data": {
      "text/plain": [
       "{'flow': '3a91cb7d-843b-495d-9973-33ba5efee877',\n",
       " 'type': 'production',\n",
       " 'name': 'inert waste',\n",
       " 'classifications': {'CPC': ['39: Wastes or scraps']},\n",
       " 'production volume': 16047688800.0,\n",
       " 'properties': {'carbon allocation': {'amount': 0.0, 'unit': 'kg'},\n",
       "  'carbon content': {'amount': 0.0, 'unit': 'dimensionless'},\n",
       "  'carbon content, fossil': {'amount': 0.0, 'unit': 'dimensionless'},\n",
       "  'carbon content, non-fossil': {'amount': 0.0, 'unit': 'dimensionless'},\n",
       "  'dry mass': {'amount': 1.0, 'unit': 'kg'},\n",
       "  'price': {'amount': 0.0,\n",
       "   'comment': 'Waste products are assigned a price of zero as they are assumed to require further treatment.',\n",
       "   'unit': 'EUR2005'},\n",
       "  'water content': {'amount': 0.0, 'unit': 'dimensionless'},\n",
       "  'water in wet mass': {'amount': 0.0, 'unit': 'kg'},\n",
       "  'wet mass': {'amount': 1.0, 'unit': 'kg'}},\n",
       " 'activity': '44d88162-1b58-5142-84e0-90d6a44b7ea7',\n",
       " 'unit': 'kilogram',\n",
       " 'comment': 'Estimated to be the same as in Switzerland.',\n",
       " 'variable name': 'inert_waste',\n",
       " 'amount': -1.0,\n",
       " 'uncertainty type': 0,\n",
       " 'loc': -1.0,\n",
       " 'input': ('ecoinvent-3.9.1-cutoff', '1ef033e35aa7115f1413c7d2d032de5c'),\n",
       " 'output': ('ecoinvent-3.9.1-cutoff', '1ef033e35aa7115f1413c7d2d032de5c')}"
      ]
     },
     "execution_count": 71,
     "metadata": {},
     "output_type": "execute_result"
    }
   ],
   "source": [
    "random_exc = [exc for exc in random_act.exchanges()][0].as_dict()\n",
    "random_exc"
   ]
  },
  {
   "cell_type": "markdown",
   "metadata": {},
   "source": [
    "As we can see, each exchange stores an \"input\" and \"ouput\" var (when treated as a dict). \n",
    "\n",
    "Our goal is to use this exchange as an edge between the two nodes.\n",
    "\n",
    "So first we'll get make just a node graph of all the processes (and maybe a bipartite network between biosphere and technosphere?)\n",
    "\n",
    "And then we'll iterate through all the edges and join them.\n",
    "\n",
    "\n",
    "**Note**: from the initial import as well as manually iterating (deleted), we know that t process count is 21238, while the exchange count is 674593 (for ecoinvent 3.9.1 -- but maybe we should upgrade to 3.11)\n",
    "\n"
   ]
  },
  {
   "cell_type": "markdown",
   "metadata": {},
   "source": [
    "## Case study: make a graph from the database"
   ]
  },
  {
   "cell_type": "code",
   "execution_count": 72,
   "metadata": {},
   "outputs": [
    {
     "data": {
      "text/plain": [
       "21238"
      ]
     },
     "execution_count": 72,
     "metadata": {},
     "output_type": "execute_result"
    }
   ],
   "source": [
    "G = nx.DiGraph()\n",
    "\n",
    "## attach the nodes\n",
    "for act in eidb:\n",
    "    G.add_node(act['code'], **act)\n",
    "\n",
    "G.number_of_nodes()"
   ]
  },
  {
   "cell_type": "code",
   "execution_count": 73,
   "metadata": {},
   "outputs": [
    {
     "data": {
      "text/plain": [
       "{'comment': 'This is a market activity. Each market represents the consumption mix of a product in a given geography, connecting suppliers with consumers of the same product in the same geographical area. Markets group the producers and also the imports of the product (if relevant) within the same geographical area. They also account for transport to the consumer and for the losses during that process, when relevant.\\nThis dataset represents the global market for Cross-laminated timber (CLT). \\nCLT production is geographically much focused on Alpine Europe, where the technology was originally developed. For example, Austria, Germany, and Switzerland together had almost 80% of global production capacity in 2015, whereby Austria alone holds 60% of global capacity (Muszynski et al., 2017). Other producing regions include France, the UK, Finland, Latvia, Japan, and the US.\\nThe global annual production of CLT was estimated between 600,000 m3 in 2013 and one million m3 in 2015 (Muszynski et al., 2017). A future projection estimates that global production would reach three million m3 by 2025 (Muszynski et al., 2017). The global production volume for 2020 is therefore estimated to be roughly t wo million m3.\\nCross-laminated timber (CLT) is a wood panel product made from gluing layers of solid-sawn timber together. Each layer of boards is oriented perpendicular to adjacent layers and glued on the wide faces of each board, usually in a symmetric way so that the outer layers have the same orientation. \\nReference(s):\\nMuszynski, Lech & Hansen, Eric & Fernando, Shanuka & Schwarzman, G. & Rainer, Jasmin. (2017). Insights into the Global Cross-Laminated Timber Industry. BioProducts Business. 22. 77-92.\\nIncluded activities start:  Activity starts with the product leaving the factory gate, ready for shipment\\nIncluded activities end:  Activity ends with the reception of the product at the consuming entity. Average transportation requirements from producer to consuming entity are covered.',\n",
       " 'classifications': [('ISIC rev.4 ecoinvent',\n",
       "   '1621:Manufacture of veneer sheets and wood-based panels'),\n",
       "  ('CPC', '31411: Plywood consisting solely of sheets, of coniferous wood')],\n",
       " 'activity type': 'market activity',\n",
       " 'activity': 'bed8f1a4-98db-5f79-9893-4831de3ad055',\n",
       " 'database': 'ecoinvent-3.9.1-cutoff',\n",
       " 'filename': 'bed8f1a4-98db-5f79-9893-4831de3ad055_610daa06-27af-553b-9382-71de32df4525.spold',\n",
       " 'location': 'RoW',\n",
       " 'name': 'market for cross-laminated timber',\n",
       " 'synonyms': ['Brettsperrholz'],\n",
       " 'parameters': [],\n",
       " 'authors': {'data entry': {'name': 'Frank Werner',\n",
       "   'email': 'frank@frankwerner.ch'},\n",
       "  'data generator': {'name': 'Frank Werner', 'email': 'frank@frankwerner.ch'}},\n",
       " 'type': 'process',\n",
       " 'reference product': 'cross-laminated timber',\n",
       " 'flow': '610daa06-27af-553b-9382-71de32df4525',\n",
       " 'unit': 'cubic meter',\n",
       " 'production amount': 1.0,\n",
       " 'code': 'e495b85a7516ed20273027cd2e3804fe',\n",
       " 'id': 20525}"
      ]
     },
     "execution_count": 73,
     "metadata": {},
     "output_type": "execute_result"
    }
   ],
   "source": [
    "G.nodes['e495b85a7516ed20273027cd2e3804fe']"
   ]
  },
  {
   "cell_type": "code",
   "execution_count": 74,
   "metadata": {},
   "outputs": [
    {
     "data": {
      "text/plain": [
       "{'flow': '3a91cb7d-843b-495d-9973-33ba5efee877',\n",
       " 'type': 'production',\n",
       " 'name': 'inert waste',\n",
       " 'classifications': {'CPC': ['39: Wastes or scraps']},\n",
       " 'production volume': 16047688800.0,\n",
       " 'properties': {'carbon allocation': {'amount': 0.0, 'unit': 'kg'},\n",
       "  'carbon content': {'amount': 0.0, 'unit': 'dimensionless'},\n",
       "  'carbon content, fossil': {'amount': 0.0, 'unit': 'dimensionless'},\n",
       "  'carbon content, non-fossil': {'amount': 0.0, 'unit': 'dimensionless'},\n",
       "  'dry mass': {'amount': 1.0, 'unit': 'kg'},\n",
       "  'price': {'amount': 0.0,\n",
       "   'comment': 'Waste products are assigned a price of zero as they are assumed to require further treatment.',\n",
       "   'unit': 'EUR2005'},\n",
       "  'water content': {'amount': 0.0, 'unit': 'dimensionless'},\n",
       "  'water in wet mass': {'amount': 0.0, 'unit': 'kg'},\n",
       "  'wet mass': {'amount': 1.0, 'unit': 'kg'}},\n",
       " 'activity': '44d88162-1b58-5142-84e0-90d6a44b7ea7',\n",
       " 'unit': 'kilogram',\n",
       " 'comment': 'Estimated to be the same as in Switzerland.',\n",
       " 'variable name': 'inert_waste',\n",
       " 'amount': -1.0,\n",
       " 'uncertainty type': 0,\n",
       " 'loc': -1.0,\n",
       " 'input': ('ecoinvent-3.9.1-cutoff', '1ef033e35aa7115f1413c7d2d032de5c'),\n",
       " 'output': ('ecoinvent-3.9.1-cutoff', '1ef033e35aa7115f1413c7d2d032de5c')}"
      ]
     },
     "execution_count": 74,
     "metadata": {},
     "output_type": "execute_result"
    }
   ],
   "source": [
    "# random_exc = [exc for exc in eidb.random().exchanges()][0].as_dict()\n",
    "random_exc"
   ]
  },
  {
   "cell_type": "markdown",
   "metadata": {},
   "source": [
    "Note that we have a choice of edge weight here. Possible options include:\n",
    "\n",
    "* Production Volume\n",
    "* Any of the properties eg:\n",
    "    * carbon acollocation \n",
    "    * carbon content\n",
    "    * price \n",
    "    * amount\n",
    "\n",
    "But none of them *really* make sense to me to use. I suspect in the end we'll probably end up using different ones for different analysis for different types of processes. For now we'll use production volume."
   ]
  },
  {
   "cell_type": "code",
   "execution_count": 75,
   "metadata": {},
   "outputs": [],
   "source": [
    "## Build the exchanges\n",
    "for act in eidb:\n",
    "    for exc in act.exchanges():\n",
    "        input_node = exc[\"input\"][1]\n",
    "        output_node = exc[\"output\"][1]\n",
    "        carbon_content = exc.get('properties', {}).get('carbon content', {}).get('amount', 0)\n",
    "        carbon_allocation = exc.get('properties', {}).get('carbon allocation', {}).get('amount', 1)\n",
    "        \n",
    "        # Calculate carbon flow for the edge\n",
    "        carbon_flow = carbon_content * carbon_allocation\n",
    "        # Add edge to the graph\n",
    "        G.add_edge(input_node, output_node, carbon_flow=carbon_flow, **exc)\n",
    "\n"
   ]
  },
  {
   "cell_type": "code",
   "execution_count": 76,
   "metadata": {},
   "outputs": [
    {
     "data": {
      "text/plain": [
       "{'comment': 'This activity represents the reduction of pressure, from high to low, for the distribution of natural gas [m3] to end-users. \\nIncluded activities start:  Only the input of natural gas at high pressure (from regional distribution) considered in this activity.\\nIncluded activities end:  Pressure reduction from high to low pressure, for supply to local distribution network. Energy requirements, losses and emissions, and infrastructure for the distribution at the different pressure levels are considered in the corresponding market activities. \\nGeography:  This geography represents the subset of European countries, excluding the following: Belgium, Switzerland, Germany, Spain, France, United Kingdom, italy, Netherlands\\nTechnology:  Within this dataset, natural gas gas at high pressure(1-5 bar overpressure) is converted to low pressure (0.1 bar overpressure) for local distribution, e.g., for residential use.',\n",
       " 'classifications': [('ISIC rev.4 ecoinvent',\n",
       "   '3520:Manufacture of gas; distribution of gaseous fuels through mains'),\n",
       "  ('CPC', '69120: Gas distribution through mains (on own account)')],\n",
       " 'activity type': 'ordinary transforming activity',\n",
       " 'activity': 'e677421d-6176-5448-9bcc-6be95554985c',\n",
       " 'database': 'ecoinvent-3.9.1-cutoff',\n",
       " 'filename': 'e677421d-6176-5448-9bcc-6be95554985c_609fae33-2e89-4b99-8129-b1f80a6dda33.spold',\n",
       " 'location': 'RoE',\n",
       " 'name': 'natural gas pressure reduction, from high to low pressure',\n",
       " 'synonyms': [],\n",
       " 'parameters': [],\n",
       " 'authors': {'data entry': {'name': 'Carl Vadenbo',\n",
       "   'email': 'vadenbo@ecoinvent.org'},\n",
       "  'data generator': {'name': 'Carl Vadenbo',\n",
       "   'email': 'vadenbo@ecoinvent.org'}},\n",
       " 'type': 'process',\n",
       " 'reference product': 'natural gas, low pressure',\n",
       " 'flow': '609fae33-2e89-4b99-8129-b1f80a6dda33',\n",
       " 'unit': 'cubic meter',\n",
       " 'production amount': 1.0,\n",
       " 'code': '4695730316b4d42e7f6f52a22aebee63',\n",
       " 'id': 23760}"
      ]
     },
     "execution_count": 76,
     "metadata": {},
     "output_type": "execute_result"
    }
   ],
   "source": [
    "G.nodes['4695730316b4d42e7f6f52a22aebee63']"
   ]
  },
  {
   "cell_type": "markdown",
   "metadata": {},
   "source": [
    "The above is the activity for reducing the pressure of a natural gas for high pressure to low pressure for the \"Rest of Europe,\" that is, the average of the nations not explicitly defined.\n",
    "\n",
    "It's exchanges are what link this process to other processes. From ecoquery we see that they are: \n",
    "\n",
    "* Consuming\n",
    "    * market for natural gas, low pressure, ROE\n",
    "\n",
    "* Inputs\n",
    "    * market for natural gas, high pressure AT\n",
    "    * market for natural gas, high pressure CZ"
   ]
  },
  {
   "cell_type": "code",
   "execution_count": 77,
   "metadata": {},
   "outputs": [
    {
     "name": "stdout",
     "output_type": "stream",
     "text": [
      "Edge from 4695730316b4d42e7f6f52a22aebee63 to 4695730316b4d42e7f6f52a22aebee63 with data:\n",
      "{\n",
      "    \"carbon_flow\": 0.40357453499999996,\n",
      "    \"flow\": \"609fae33-2e89-4b99-8129-b1f80a6dda33\",\n",
      "    \"type\": \"production\",\n",
      "    \"name\": \"natural gas, low pressure\",\n",
      "    \"classifications\": {\n",
      "        \"CPC\": [\n",
      "            \"69120: Gas distribution through mains (on own account)\"\n",
      "        ]\n",
      "    },\n",
      "    \"production volume\": 72149000000.0,\n",
      "    \"properties\": {\n",
      "        \"carbon allocation\": {\n",
      "            \"amount\": 0.544635,\n",
      "            \"unit\": \"kg\"\n",
      "        },\n",
      "        \"carbon content\": {\n",
      "            \"amount\": 0.741,\n",
      "            \"unit\": \"dimensionless\"\n",
      "        },\n",
      "        \"carbon content, fossil\": {\n",
      "            \"amount\": 0.741,\n",
      "            \"comment\": \"C content considered the same as in high pressure (consumption mix)\",\n",
      "            \"unit\": \"dimensionless\"\n",
      "        },\n",
      "        \"carbon content, non-fossil\": {\n",
      "            \"amount\": 0.0,\n",
      "            \"unit\": \"dimensionless\"\n",
      "        },\n",
      "        \"dry mass\": {\n",
      "            \"amount\": 0.735,\n",
      "            \"unit\": \"kg\"\n",
      "        },\n",
      "        \"heating value, gross\": {\n",
      "            \"amount\": 40.0,\n",
      "            \"comment\": \"At standard conditions, and assuming amount equal to that of high pressure; based on Meili et al. (2022) section 5.5\",\n",
      "            \"unit\": \"MJ\"\n",
      "        },\n",
      "        \"heating value, net\": {\n",
      "            \"amount\": 36.0,\n",
      "            \"comment\": \"Literature value, Source: United Nations Statistics Division (2018) International Recommendations for Energy Statistics (IRES). Available at: http://unstats.un.org/unsd/statcom/doc11/BG-IRES.pdf.\",\n",
      "            \"unit\": \"MJ\"\n",
      "        },\n",
      "        \"price\": {\n",
      "            \"amount\": 0.205,\n",
      "            \"comment\": \"Calculated value based on data from United Nations Commodity Trade Statistics Database (comtrade.un.org). UN comtrade category: 271121 Natural gas in gaseous state. Year 2005. Using exchange rate of 1EURO = 1.209 USD. Average of price of import into 4 main markets (EU, US, JP and CN).\",\n",
      "            \"unit\": \"EUR2005\"\n",
      "        },\n",
      "        \"water content\": {\n",
      "            \"amount\": 0.0,\n",
      "            \"comment\": \"water mass/dry mass\",\n",
      "            \"unit\": \"dimensionless\"\n",
      "        },\n",
      "        \"water in wet mass\": {\n",
      "            \"amount\": 0.0,\n",
      "            \"comment\": \"Tab 3.1 ecoinvent v2.2 report 6_V\",\n",
      "            \"unit\": \"kg\"\n",
      "        },\n",
      "        \"wet mass\": {\n",
      "            \"amount\": 0.735,\n",
      "            \"comment\": \"assumed same density as \",\n",
      "            \"unit\": \"kg\"\n",
      "        }\n",
      "    },\n",
      "    \"activity\": \"e677421d-6176-5448-9bcc-6be95554985c\",\n",
      "    \"unit\": \"cubic meter\",\n",
      "    \"CAS number\": \"14493-06-2\",\n",
      "    \"amount\": 1.0,\n",
      "    \"uncertainty type\": 0,\n",
      "    \"loc\": 1.0,\n",
      "    \"input\": [\n",
      "        \"ecoinvent-3.9.1-cutoff\",\n",
      "        \"4695730316b4d42e7f6f52a22aebee63\"\n",
      "    ],\n",
      "    \"output\": [\n",
      "        \"ecoinvent-3.9.1-cutoff\",\n",
      "        \"4695730316b4d42e7f6f52a22aebee63\"\n",
      "    ]\n",
      "}\n",
      "\tHas location: RoE \n",
      "\n",
      "Edge from 4695730316b4d42e7f6f52a22aebee63 to 40bccd8d0b93d2e058476865a14f0a52 with data:\n",
      "{\n",
      "    \"carbon_flow\": 0.40357453499999996,\n",
      "    \"flow\": \"609fae33-2e89-4b99-8129-b1f80a6dda33\",\n",
      "    \"type\": \"technosphere\",\n",
      "    \"name\": \"natural gas, low pressure\",\n",
      "    \"classifications\": {\n",
      "        \"CPC\": [\n",
      "            \"69120: Gas distribution through mains (on own account)\"\n",
      "        ]\n",
      "    },\n",
      "    \"production volume\": 0.0,\n",
      "    \"properties\": {\n",
      "        \"carbon allocation\": {\n",
      "            \"amount\": 0.544635,\n",
      "            \"unit\": \"kg\"\n",
      "        },\n",
      "        \"carbon content\": {\n",
      "            \"amount\": 0.741,\n",
      "            \"unit\": \"dimensionless\"\n",
      "        },\n",
      "        \"carbon content, fossil\": {\n",
      "            \"amount\": 0.741,\n",
      "            \"unit\": \"dimensionless\"\n",
      "        },\n",
      "        \"carbon content, non-fossil\": {\n",
      "            \"amount\": 0.0,\n",
      "            \"unit\": \"dimensionless\"\n",
      "        },\n",
      "        \"dry mass\": {\n",
      "            \"amount\": 0.735,\n",
      "            \"unit\": \"kg\"\n",
      "        },\n",
      "        \"heating value, gross\": {\n",
      "            \"amount\": 40.0,\n",
      "            \"unit\": \"MJ\"\n",
      "        },\n",
      "        \"heating value, net\": {\n",
      "            \"amount\": 36.0,\n",
      "            \"unit\": \"MJ\"\n",
      "        },\n",
      "        \"price\": {\n",
      "            \"amount\": 0.205,\n",
      "            \"unit\": \"EUR2005\"\n",
      "        },\n",
      "        \"water content\": {\n",
      "            \"amount\": 0.0,\n",
      "            \"unit\": \"dimensionless\"\n",
      "        },\n",
      "        \"water in wet mass\": {\n",
      "            \"amount\": 0.0,\n",
      "            \"unit\": \"kg\"\n",
      "        },\n",
      "        \"wet mass\": {\n",
      "            \"amount\": 0.735,\n",
      "            \"unit\": \"kg\"\n",
      "        }\n",
      "    },\n",
      "    \"activity\": \"e677421d-6176-5448-9bcc-6be95554985c\",\n",
      "    \"unit\": \"cubic meter\",\n",
      "    \"amount\": 1.0,\n",
      "    \"uncertainty type\": 0,\n",
      "    \"loc\": 1.0,\n",
      "    \"input\": [\n",
      "        \"ecoinvent-3.9.1-cutoff\",\n",
      "        \"4695730316b4d42e7f6f52a22aebee63\"\n",
      "    ],\n",
      "    \"output\": [\n",
      "        \"ecoinvent-3.9.1-cutoff\",\n",
      "        \"40bccd8d0b93d2e058476865a14f0a52\"\n",
      "    ]\n",
      "}\n",
      "\tHas location: RoE \n",
      "\n"
     ]
    }
   ],
   "source": [
    "out_edges = G.out_edges('4695730316b4d42e7f6f52a22aebee63', data=True)\n",
    "for u, v, edge_data in out_edges:\n",
    "    # Print edge info with formatted data\n",
    "    edge_data_str = json.dumps(edge_data, indent=4)  # Pretty-print the edge data\n",
    "    print(f\"Edge from {u} to {v} with data:\\n{edge_data_str}\")\n",
    "    print(f\"\\tHas location: {G.nodes[u].get('location', 'No location attribute')} \\n\")\n"
   ]
  },
  {
   "cell_type": "markdown",
   "metadata": {},
   "source": [
    "Interestingly, we get one MORE consuming (outgoing) edge than ecoquery suggests. One for the *market* for the low pressure gas and one that just goes back to itself. \n",
    "\n",
    "\n",
    "I'm not totally sure of this, but I think we can see [Brightway Inventory Documentation](https://docs.brightway.dev/en/latest/content/overview/inventory.html) for why:\n",
    "\n",
    "\"However, many databases we build on do not make a clean distinction between products and processes. In this case, to accurately reflect the data schema of the imported data, and to simplify graph traversal, we can create a chimaera node which is both process and reference product. In this case, a process produces itself, as it is both a process and a product. Because the product and process are bound together, these processes can only have one functional edge. These chimaera nodes have the data of both the process and the product, and the information of the (reference) product is given in Brightway by:\n",
    "\n",
    "unit: The unit of the product produced\n",
    "\n",
    "reference product: The name of the product produced\"\n",
    "\n",
    "This doesn't quite make sense, though, because we the text above has no reference product field.\n"
   ]
  },
  {
   "cell_type": "markdown",
   "metadata": {},
   "source": []
  },
  {
   "cell_type": "markdown",
   "metadata": {},
   "source": [
    "Now we look at the incoming edges, which we confirm as being high pressure gas from various locations. Again, the first edge is self-referential. "
   ]
  },
  {
   "cell_type": "code",
   "execution_count": 78,
   "metadata": {},
   "outputs": [
    {
     "name": "stdout",
     "output_type": "stream",
     "text": [
      "Edge from 4695730316b4d42e7f6f52a22aebee63 to 4695730316b4d42e7f6f52a22aebee63 with data: {'carbon_flow': 0.40357453499999996, 'flow': '609fae33-2e89-4b99-8129-b1f80a6dda33', 'type': 'production', 'name': 'natural gas, low pressure', 'classifications': {'CPC': ['69120: Gas distribution through mains (on own account)']}, 'production volume': 72149000000.0, 'properties': {'carbon allocation': {'amount': 0.544635, 'unit': 'kg'}, 'carbon content': {'amount': 0.741, 'unit': 'dimensionless'}, 'carbon content, fossil': {'amount': 0.741, 'comment': 'C content considered the same as in high pressure (consumption mix)', 'unit': 'dimensionless'}, 'carbon content, non-fossil': {'amount': 0.0, 'unit': 'dimensionless'}, 'dry mass': {'amount': 0.735, 'unit': 'kg'}, 'heating value, gross': {'amount': 40.0, 'comment': 'At standard conditions, and assuming amount equal to that of high pressure; based on Meili et al. (2022) section 5.5', 'unit': 'MJ'}, 'heating value, net': {'amount': 36.0, 'comment': 'Literature value, Source: United Nations Statistics Division (2018) International Recommendations for Energy Statistics (IRES). Available at: http://unstats.un.org/unsd/statcom/doc11/BG-IRES.pdf.', 'unit': 'MJ'}, 'price': {'amount': 0.205, 'comment': 'Calculated value based on data from United Nations Commodity Trade Statistics Database (comtrade.un.org). UN comtrade category: 271121 Natural gas in gaseous state. Year 2005. Using exchange rate of 1EURO = 1.209 USD. Average of price of import into 4 main markets (EU, US, JP and CN).', 'unit': 'EUR2005'}, 'water content': {'amount': 0.0, 'comment': 'water mass/dry mass', 'unit': 'dimensionless'}, 'water in wet mass': {'amount': 0.0, 'comment': 'Tab 3.1 ecoinvent v2.2 report 6_V', 'unit': 'kg'}, 'wet mass': {'amount': 0.735, 'comment': 'assumed same density as ', 'unit': 'kg'}}, 'activity': 'e677421d-6176-5448-9bcc-6be95554985c', 'unit': 'cubic meter', 'CAS number': '14493-06-2', 'amount': 1.0, 'uncertainty type': 0, 'loc': 1.0, 'input': ('ecoinvent-3.9.1-cutoff', '4695730316b4d42e7f6f52a22aebee63'), 'output': ('ecoinvent-3.9.1-cutoff', '4695730316b4d42e7f6f52a22aebee63')} \n",
      "\t has RoE as location\n",
      "Edge from 84c52a94bf58be855ac22e6a538a16ba to 4695730316b4d42e7f6f52a22aebee63 with data: {'carbon_flow': 0.40357453499999996, 'flow': 'a9007f10-7e39-4d50-8f4a-d6d03ce3d673', 'type': 'technosphere', 'name': 'natural gas, high pressure', 'classifications': {'CPC': ['12020: Natural gas, liquefied or in the gaseous state']}, 'production volume': 0.0, 'properties': {'carbon allocation': {'amount': 0.544635, 'unit': 'kg'}, 'carbon content': {'amount': 0.741, 'unit': 'dimensionless'}, 'carbon content, fossil': {'amount': 0.741, 'comment': 'An average C content of 0.506 kg C/ m3 has been assumed (this average has been calculated using data in Tab 3.5, ecoinvent v2.2 report 6_V', 'unit': 'dimensionless'}, 'carbon content, non-fossil': {'amount': 0.0, 'unit': 'dimensionless'}, 'dry mass': {'amount': 0.735, 'unit': 'kg'}, 'heating value, gross': {'amount': 40.0, 'comment': 'At standard conditions; based on Meili et al. (2022) section 5.2', 'unit': 'MJ'}, 'heating value, net': {'amount': 36.0, 'comment': 'Literature value, Source: United Nations Statistics Division (2018) International Recommendations for Energy Statistics (IRES). Available at: http://unstats.un.org/unsd/statcom/doc11/BG-IRES.pdf.', 'unit': 'MJ'}, 'water content': {'amount': 0.0, 'comment': 'water mass/dry mass', 'unit': 'dimensionless'}, 'water in wet mass': {'amount': 0.0, 'comment': 'Tab 3.1 ecoinvent v2.2 report 6_V', 'unit': 'kg'}, 'wet mass': {'amount': 0.735, 'comment': 'An average density of 0.84 kg/m3 has been assumed', 'unit': 'kg'}}, 'activity': '15a8900d-db6e-596f-a0f9-18c39a0b7eb5', 'unit': 'cubic meter', 'comment': 'No uncertainty considered since this activity is only intended to link natural gas at low pressure to the corresponding high pressure supply.', 'CAS number': '14493-06-2', 'amount': 0.2057076787326904, 'uncertainty type': 0, 'loc': 0.2057076787326904, 'input': ('ecoinvent-3.9.1-cutoff', '84c52a94bf58be855ac22e6a538a16ba'), 'output': ('ecoinvent-3.9.1-cutoff', '4695730316b4d42e7f6f52a22aebee63')} \n",
      "\t has PL as location\n",
      "Edge from 29d1c4a73720a7cdb66cb4d65900e445 to 4695730316b4d42e7f6f52a22aebee63 with data: {'carbon_flow': 0.40357453499999996, 'flow': 'a9007f10-7e39-4d50-8f4a-d6d03ce3d673', 'type': 'technosphere', 'name': 'natural gas, high pressure', 'classifications': {'CPC': ['12020: Natural gas, liquefied or in the gaseous state']}, 'production volume': 0.0, 'properties': {'carbon allocation': {'amount': 0.544635, 'unit': 'kg'}, 'carbon content': {'amount': 0.741, 'unit': 'dimensionless'}, 'carbon content, fossil': {'amount': 0.741, 'comment': 'An average C content of 0.506 kg C/ m3 has been assumed (this average has been calculated using data in Tab 3.5, ecoinvent v2.2 report 6_V', 'unit': 'dimensionless'}, 'carbon content, non-fossil': {'amount': 0.0, 'unit': 'dimensionless'}, 'dry mass': {'amount': 0.735, 'unit': 'kg'}, 'heating value, gross': {'amount': 40.0, 'comment': 'At standard conditions; based on Meili et al. (2022) section 5.2', 'unit': 'MJ'}, 'heating value, net': {'amount': 36.0, 'comment': 'Literature value, Source: United Nations Statistics Division (2018) International Recommendations for Energy Statistics (IRES). Available at: http://unstats.un.org/unsd/statcom/doc11/BG-IRES.pdf.', 'unit': 'MJ'}, 'water content': {'amount': 0.0, 'comment': 'water mass/dry mass', 'unit': 'dimensionless'}, 'water in wet mass': {'amount': 0.0, 'comment': 'Tab 3.1 ecoinvent v2.2 report 6_V', 'unit': 'kg'}, 'wet mass': {'amount': 0.735, 'comment': 'An average density of 0.84 kg/m3 has been assumed', 'unit': 'kg'}}, 'activity': '335a053b-1fb5-5872-b799-db238b072251', 'unit': 'cubic meter', 'comment': 'No uncertainty considered since this activity is only intended to link natural gas at low pressure to the corresponding high pressure supply.', 'CAS number': '14493-06-2', 'amount': 0.1053460538817894, 'uncertainty type': 0, 'loc': 0.1053460538817894, 'input': ('ecoinvent-3.9.1-cutoff', '29d1c4a73720a7cdb66cb4d65900e445'), 'output': ('ecoinvent-3.9.1-cutoff', '4695730316b4d42e7f6f52a22aebee63')} \n",
      "\t has RO as location\n",
      "Edge from 1a07bf6d0564b49db80ab54f5dc3f2c1 to 4695730316b4d42e7f6f52a22aebee63 with data: {'carbon_flow': 0.40357453499999996, 'flow': 'a9007f10-7e39-4d50-8f4a-d6d03ce3d673', 'type': 'technosphere', 'name': 'natural gas, high pressure', 'classifications': {'CPC': ['12020: Natural gas, liquefied or in the gaseous state']}, 'production volume': 0.0, 'properties': {'carbon allocation': {'amount': 0.544635, 'unit': 'kg'}, 'carbon content': {'amount': 0.741, 'unit': 'dimensionless'}, 'carbon content, fossil': {'amount': 0.741, 'comment': 'An average C content of 0.506 kg C/ m3 has been assumed (this average has been calculated using data in Tab 3.5, ecoinvent v2.2 report 6_V', 'unit': 'dimensionless'}, 'carbon content, non-fossil': {'amount': 0.0, 'unit': 'dimensionless'}, 'dry mass': {'amount': 0.735, 'unit': 'kg'}, 'heating value, gross': {'amount': 40.0, 'comment': 'At standard conditions; based on Meili et al. (2022) section 5.2', 'unit': 'MJ'}, 'heating value, net': {'amount': 36.0, 'comment': 'Literature value, Source: United Nations Statistics Division (2018) International Recommendations for Energy Statistics (IRES). Available at: http://unstats.un.org/unsd/statcom/doc11/BG-IRES.pdf.', 'unit': 'MJ'}, 'water content': {'amount': 0.0, 'comment': 'water mass/dry mass', 'unit': 'dimensionless'}, 'water in wet mass': {'amount': 0.0, 'comment': 'Tab 3.1 ecoinvent v2.2 report 6_V', 'unit': 'kg'}, 'wet mass': {'amount': 0.735, 'comment': 'An average density of 0.84 kg/m3 has been assumed', 'unit': 'kg'}}, 'activity': '3a4e7b60-7646-5367-93b4-ad5f9d2ed9d6', 'unit': 'cubic meter', 'comment': 'No uncertainty considered since this activity is only intended to link natural gas at low pressure to the corresponding high pressure supply.', 'CAS number': '14493-06-2', 'amount': 0.050722174091231934, 'uncertainty type': 0, 'loc': 0.050722174091231934, 'input': ('ecoinvent-3.9.1-cutoff', '1a07bf6d0564b49db80ab54f5dc3f2c1'), 'output': ('ecoinvent-3.9.1-cutoff', '4695730316b4d42e7f6f52a22aebee63')} \n",
      "\t has GR as location\n",
      "Edge from 8fe71e00ac03aa41e073629a7bd4602e to 4695730316b4d42e7f6f52a22aebee63 with data: {'carbon_flow': 0.40357453499999996, 'flow': 'a9007f10-7e39-4d50-8f4a-d6d03ce3d673', 'type': 'technosphere', 'name': 'natural gas, high pressure', 'classifications': {'CPC': ['12020: Natural gas, liquefied or in the gaseous state']}, 'production volume': 0.0, 'properties': {'carbon allocation': {'amount': 0.544635, 'unit': 'kg'}, 'carbon content': {'amount': 0.741, 'unit': 'dimensionless'}, 'carbon content, fossil': {'amount': 0.741, 'comment': 'An average C content of 0.506 kg C/ m3 has been assumed (this average has been calculated using data in Tab 3.5, ecoinvent v2.2 report 6_V', 'unit': 'dimensionless'}, 'carbon content, non-fossil': {'amount': 0.0, 'unit': 'dimensionless'}, 'dry mass': {'amount': 0.735, 'unit': 'kg'}, 'heating value, gross': {'amount': 40.0, 'comment': 'At standard conditions; based on Meili et al. (2022) section 5.2', 'unit': 'MJ'}, 'heating value, net': {'amount': 36.0, 'comment': 'Literature value, Source: United Nations Statistics Division (2018) International Recommendations for Energy Statistics (IRES). Available at: http://unstats.un.org/unsd/statcom/doc11/BG-IRES.pdf.', 'unit': 'MJ'}, 'water content': {'amount': 0.0, 'comment': 'water mass/dry mass', 'unit': 'dimensionless'}, 'water in wet mass': {'amount': 0.0, 'comment': 'Tab 3.1 ecoinvent v2.2 report 6_V', 'unit': 'kg'}, 'wet mass': {'amount': 0.735, 'comment': 'An average density of 0.84 kg/m3 has been assumed', 'unit': 'kg'}}, 'activity': '437cb4ec-61f1-5644-b411-b84b31141b8b', 'unit': 'cubic meter', 'comment': 'No uncertainty considered since this activity is only intended to link natural gas at low pressure to the corresponding high pressure supply.', 'CAS number': '14493-06-2', 'amount': 0.08681295180999311, 'uncertainty type': 0, 'loc': 0.08681295180999311, 'input': ('ecoinvent-3.9.1-cutoff', '8fe71e00ac03aa41e073629a7bd4602e'), 'output': ('ecoinvent-3.9.1-cutoff', '4695730316b4d42e7f6f52a22aebee63')} \n",
      "\t has AT as location\n",
      "Edge from b9ed569ca351f4620cfe5b8fbd1e3bb7 to 4695730316b4d42e7f6f52a22aebee63 with data: {'carbon_flow': 0.40357453499999996, 'flow': 'a9007f10-7e39-4d50-8f4a-d6d03ce3d673', 'type': 'technosphere', 'name': 'natural gas, high pressure', 'classifications': {'CPC': ['12020: Natural gas, liquefied or in the gaseous state']}, 'production volume': 0.0, 'properties': {'carbon allocation': {'amount': 0.544635, 'unit': 'kg'}, 'carbon content': {'amount': 0.741, 'unit': 'dimensionless'}, 'carbon content, fossil': {'amount': 0.741, 'comment': 'An average C content of 0.506 kg C/ m3 has been assumed (this average has been calculated using data in Tab 3.5, ecoinvent v2.2 report 6_V', 'unit': 'dimensionless'}, 'carbon content, non-fossil': {'amount': 0.0, 'unit': 'dimensionless'}, 'dry mass': {'amount': 0.735, 'unit': 'kg'}, 'heating value, gross': {'amount': 40.0, 'comment': 'At standard conditions; based on Meili et al. (2022) section 5.2', 'unit': 'MJ'}, 'heating value, net': {'amount': 36.0, 'comment': 'Literature value, Source: United Nations Statistics Division (2018) International Recommendations for Energy Statistics (IRES). Available at: http://unstats.un.org/unsd/statcom/doc11/BG-IRES.pdf.', 'unit': 'MJ'}, 'water content': {'amount': 0.0, 'comment': 'water mass/dry mass', 'unit': 'dimensionless'}, 'water in wet mass': {'amount': 0.0, 'comment': 'Tab 3.1 ecoinvent v2.2 report 6_V', 'unit': 'kg'}, 'wet mass': {'amount': 0.735, 'comment': 'An average density of 0.84 kg/m3 has been assumed', 'unit': 'kg'}}, 'activity': '4aac0f19-7d9d-5cd4-b929-69031332f2d3', 'unit': 'cubic meter', 'comment': 'No uncertainty considered since this activity is only intended to link natural gas at low pressure to the corresponding high pressure supply.', 'CAS number': '14493-06-2', 'amount': 0.019508528496627667, 'uncertainty type': 0, 'loc': 0.019508528496627667, 'input': ('ecoinvent-3.9.1-cutoff', 'b9ed569ca351f4620cfe5b8fbd1e3bb7'), 'output': ('ecoinvent-3.9.1-cutoff', '4695730316b4d42e7f6f52a22aebee63')} \n",
      "\t has FI as location\n",
      "Edge from 4493d6ebe7d2b80501f30fb24074e0d3 to 4695730316b4d42e7f6f52a22aebee63 with data: {'carbon_flow': 0.40357453499999996, 'flow': 'a9007f10-7e39-4d50-8f4a-d6d03ce3d673', 'type': 'technosphere', 'name': 'natural gas, high pressure', 'classifications': {'CPC': ['12020: Natural gas, liquefied or in the gaseous state']}, 'production volume': 0.0, 'properties': {'carbon allocation': {'amount': 0.544635, 'unit': 'kg'}, 'carbon content': {'amount': 0.741, 'unit': 'dimensionless'}, 'carbon content, fossil': {'amount': 0.741, 'comment': 'An average C content of 0.506 kg C/ m3 has been assumed (this average has been calculated using data in Tab 3.5, ecoinvent v2.2 report 6_V', 'unit': 'dimensionless'}, 'carbon content, non-fossil': {'amount': 0.0, 'unit': 'dimensionless'}, 'dry mass': {'amount': 0.735, 'unit': 'kg'}, 'heating value, gross': {'amount': 40.0, 'comment': 'At standard conditions; based on Meili et al. (2022) section 5.2', 'unit': 'MJ'}, 'heating value, net': {'amount': 36.0, 'comment': 'Literature value, Source: United Nations Statistics Division (2018) International Recommendations for Energy Statistics (IRES). Available at: http://unstats.un.org/unsd/statcom/doc11/BG-IRES.pdf.', 'unit': 'MJ'}, 'water content': {'amount': 0.0, 'comment': 'water mass/dry mass', 'unit': 'dimensionless'}, 'water in wet mass': {'amount': 0.0, 'comment': 'Tab 3.1 ecoinvent v2.2 report 6_V', 'unit': 'kg'}, 'wet mass': {'amount': 0.735, 'comment': 'An average density of 0.84 kg/m3 has been assumed', 'unit': 'kg'}}, 'activity': '54362cab-78ec-58b8-b0fa-959d22c2035b', 'unit': 'cubic meter', 'comment': 'No uncertainty considered since this activity is only intended to link natural gas at low pressure to the corresponding high pressure supply.', 'CAS number': '14493-06-2', 'amount': 0.009754264248313833, 'uncertainty type': 0, 'loc': 0.009754264248313833, 'input': ('ecoinvent-3.9.1-cutoff', '4493d6ebe7d2b80501f30fb24074e0d3'), 'output': ('ecoinvent-3.9.1-cutoff', '4695730316b4d42e7f6f52a22aebee63')} \n",
      "\t has SE as location\n",
      "Edge from 1b84b544795aa81adac19bb37e7a28ce to 4695730316b4d42e7f6f52a22aebee63 with data: {'carbon_flow': 0.40357453499999996, 'flow': 'a9007f10-7e39-4d50-8f4a-d6d03ce3d673', 'type': 'technosphere', 'name': 'natural gas, high pressure', 'classifications': {'CPC': ['12020: Natural gas, liquefied or in the gaseous state']}, 'production volume': 0.0, 'properties': {'carbon allocation': {'amount': 0.544635, 'unit': 'kg'}, 'carbon content': {'amount': 0.741, 'unit': 'dimensionless'}, 'carbon content, fossil': {'amount': 0.741, 'comment': 'An average C content of 0.506 kg C/ m3 has been assumed (this average has been calculated using data in Tab 3.5, ecoinvent v2.2 report 6_V', 'unit': 'dimensionless'}, 'carbon content, non-fossil': {'amount': 0.0, 'unit': 'dimensionless'}, 'dry mass': {'amount': 0.735, 'unit': 'kg'}, 'heating value, gross': {'amount': 40.0, 'comment': 'At standard conditions; based on Meili et al. (2022) section 5.2', 'unit': 'MJ'}, 'heating value, net': {'amount': 36.0, 'comment': 'Literature value, Source: United Nations Statistics Division (2018) International Recommendations for Energy Statistics (IRES). Available at: http://unstats.un.org/unsd/statcom/doc11/BG-IRES.pdf.', 'unit': 'MJ'}, 'water content': {'amount': 0.0, 'comment': 'water mass/dry mass', 'unit': 'dimensionless'}, 'water in wet mass': {'amount': 0.0, 'comment': 'Tab 3.1 ecoinvent v2.2 report 6_V', 'unit': 'kg'}, 'wet mass': {'amount': 0.735, 'comment': 'An average density of 0.84 kg/m3 has been assumed', 'unit': 'kg'}}, 'activity': '7297a167-a284-592e-b1a7-bf15ea76df04', 'unit': 'cubic meter', 'comment': 'No uncertainty considered since this activity is only intended to link natural gas at low pressure to the corresponding high pressure supply.', 'CAS number': '14493-06-2', 'amount': 0.044869615542243634, 'uncertainty type': 0, 'loc': 0.044869615542243634, 'input': ('ecoinvent-3.9.1-cutoff', '1b84b544795aa81adac19bb37e7a28ce'), 'output': ('ecoinvent-3.9.1-cutoff', '4695730316b4d42e7f6f52a22aebee63')} \n",
      "\t has NO as location\n",
      "Edge from 41e0c9c420386fd5a7b13bb3bb1ebdab to 4695730316b4d42e7f6f52a22aebee63 with data: {'carbon_flow': 0.40357453499999996, 'flow': 'a9007f10-7e39-4d50-8f4a-d6d03ce3d673', 'type': 'technosphere', 'name': 'natural gas, high pressure', 'classifications': {'CPC': ['12020: Natural gas, liquefied or in the gaseous state']}, 'production volume': 0.0, 'properties': {'carbon allocation': {'amount': 0.544635, 'unit': 'kg'}, 'carbon content': {'amount': 0.741, 'unit': 'dimensionless'}, 'carbon content, fossil': {'amount': 0.741, 'comment': 'An average C content of 0.506 kg C/ m3 has been assumed (this average has been calculated using data in Tab 3.5, ecoinvent v2.2 report 6_V', 'unit': 'dimensionless'}, 'carbon content, non-fossil': {'amount': 0.0, 'unit': 'dimensionless'}, 'dry mass': {'amount': 0.735, 'unit': 'kg'}, 'heating value, gross': {'amount': 40.0, 'comment': 'At standard conditions; based on Meili et al. (2022) section 5.2', 'unit': 'MJ'}, 'heating value, net': {'amount': 36.0, 'comment': 'Literature value, Source: United Nations Statistics Division (2018) International Recommendations for Energy Statistics (IRES). Available at: http://unstats.un.org/unsd/statcom/doc11/BG-IRES.pdf.', 'unit': 'MJ'}, 'water content': {'amount': 0.0, 'comment': 'water mass/dry mass', 'unit': 'dimensionless'}, 'water in wet mass': {'amount': 0.0, 'comment': 'Tab 3.1 ecoinvent v2.2 report 6_V', 'unit': 'kg'}, 'wet mass': {'amount': 0.735, 'comment': 'An average density of 0.84 kg/m3 has been assumed', 'unit': 'kg'}}, 'activity': '82bda5cd-df8c-5342-922d-e213fdcceee8', 'unit': 'cubic meter', 'comment': 'No uncertainty considered since this activity is only intended to link natural gas at low pressure to the corresponding high pressure supply.', 'CAS number': '14493-06-2', 'amount': 0.05169760051606331, 'uncertainty type': 0, 'loc': 0.05169760051606331, 'input': ('ecoinvent-3.9.1-cutoff', '41e0c9c420386fd5a7b13bb3bb1ebdab'), 'output': ('ecoinvent-3.9.1-cutoff', '4695730316b4d42e7f6f52a22aebee63')} \n",
      "\t has IE as location\n",
      "Edge from e9fb344e05b371d6652480f29b2fadc0 to 4695730316b4d42e7f6f52a22aebee63 with data: {'carbon_flow': 0.40357453499999996, 'flow': 'a9007f10-7e39-4d50-8f4a-d6d03ce3d673', 'type': 'technosphere', 'name': 'natural gas, high pressure', 'classifications': {'CPC': ['12020: Natural gas, liquefied or in the gaseous state']}, 'production volume': 0.0, 'properties': {'carbon allocation': {'amount': 0.544635, 'unit': 'kg'}, 'carbon content': {'amount': 0.741, 'unit': 'dimensionless'}, 'carbon content, fossil': {'amount': 0.741, 'comment': 'An average C content of 0.506 kg C/ m3 has been assumed (this average has been calculated using data in Tab 3.5, ecoinvent v2.2 report 6_V', 'unit': 'dimensionless'}, 'carbon content, non-fossil': {'amount': 0.0, 'unit': 'dimensionless'}, 'dry mass': {'amount': 0.735, 'unit': 'kg'}, 'heating value, gross': {'amount': 40.0, 'comment': 'At standard conditions; based on Meili et al. (2022) section 5.2', 'unit': 'MJ'}, 'heating value, net': {'amount': 36.0, 'comment': 'Literature value, Source: United Nations Statistics Division (2018) International Recommendations for Energy Statistics (IRES). Available at: http://unstats.un.org/unsd/statcom/doc11/BG-IRES.pdf.', 'unit': 'MJ'}, 'water content': {'amount': 0.0, 'comment': 'water mass/dry mass', 'unit': 'dimensionless'}, 'water in wet mass': {'amount': 0.0, 'comment': 'Tab 3.1 ecoinvent v2.2 report 6_V', 'unit': 'kg'}, 'wet mass': {'amount': 0.735, 'comment': 'An average density of 0.84 kg/m3 has been assumed', 'unit': 'kg'}}, 'activity': 'c604a0d9-1bd2-5335-841e-658484a9c1fc', 'unit': 'cubic meter', 'comment': 'No uncertainty considered since this activity is only intended to link natural gas at low pressure to the corresponding high pressure supply.', 'CAS number': '14493-06-2', 'amount': 0.028287366320110117, 'uncertainty type': 0, 'loc': 0.028287366320110117, 'input': ('ecoinvent-3.9.1-cutoff', 'e9fb344e05b371d6652480f29b2fadc0'), 'output': ('ecoinvent-3.9.1-cutoff', '4695730316b4d42e7f6f52a22aebee63')} \n",
      "\t has DK as location\n",
      "Edge from a7555dee1e40b2d525daa09bc000a1cb to 4695730316b4d42e7f6f52a22aebee63 with data: {'carbon_flow': 0.40357453499999996, 'flow': 'a9007f10-7e39-4d50-8f4a-d6d03ce3d673', 'type': 'technosphere', 'name': 'natural gas, high pressure', 'classifications': {'CPC': ['12020: Natural gas, liquefied or in the gaseous state']}, 'production volume': 0.0, 'properties': {'carbon allocation': {'amount': 0.544635, 'unit': 'kg'}, 'carbon content': {'amount': 0.741, 'unit': 'dimensionless'}, 'carbon content, fossil': {'amount': 0.741, 'comment': 'An average C content of 0.506 kg C/ m3 has been assumed (this average has been calculated using data in Tab 3.5, ecoinvent v2.2 report 6_V', 'unit': 'dimensionless'}, 'carbon content, non-fossil': {'amount': 0.0, 'unit': 'dimensionless'}, 'dry mass': {'amount': 0.735, 'unit': 'kg'}, 'heating value, gross': {'amount': 40.0, 'comment': 'At standard conditions; based on Meili et al. (2022) section 5.2', 'unit': 'MJ'}, 'heating value, net': {'amount': 36.0, 'comment': 'Literature value, Source: United Nations Statistics Division (2018) International Recommendations for Energy Statistics (IRES). Available at: http://unstats.un.org/unsd/statcom/doc11/BG-IRES.pdf.', 'unit': 'MJ'}, 'water content': {'amount': 0.0, 'comment': 'water mass/dry mass', 'unit': 'dimensionless'}, 'water in wet mass': {'amount': 0.0, 'comment': 'Tab 3.1 ecoinvent v2.2 report 6_V', 'unit': 'kg'}, 'wet mass': {'amount': 0.735, 'comment': 'An average density of 0.84 kg/m3 has been assumed', 'unit': 'kg'}}, 'activity': 'de2b4e17-3747-59ac-8c63-9c6d08d75e57', 'unit': 'cubic meter', 'comment': 'No uncertainty considered since this activity is only intended to link natural gas at low pressure to the corresponding high pressure supply.', 'CAS number': '14493-06-2', 'amount': 0.08096039326100482, 'uncertainty type': 0, 'loc': 0.08096039326100482, 'input': ('ecoinvent-3.9.1-cutoff', 'a7555dee1e40b2d525daa09bc000a1cb'), 'output': ('ecoinvent-3.9.1-cutoff', '4695730316b4d42e7f6f52a22aebee63')} \n",
      "\t has CZ as location\n",
      "Edge from e88d630d212aae3e62d77689310ee8de to 4695730316b4d42e7f6f52a22aebee63 with data: {'carbon_flow': 0.40357453499999996, 'flow': 'a9007f10-7e39-4d50-8f4a-d6d03ce3d673', 'type': 'technosphere', 'name': 'natural gas, high pressure', 'classifications': {'CPC': ['12020: Natural gas, liquefied or in the gaseous state']}, 'production volume': 0.0, 'properties': {'carbon allocation': {'amount': 0.544635, 'unit': 'kg'}, 'carbon content': {'amount': 0.741, 'unit': 'dimensionless'}, 'carbon content, fossil': {'amount': 0.741, 'comment': 'An average C content of 0.506 kg C/ m3 has been assumed (this average has been calculated using data in Tab 3.5, ecoinvent v2.2 report 6_V', 'unit': 'dimensionless'}, 'carbon content, non-fossil': {'amount': 0.0, 'unit': 'dimensionless'}, 'dry mass': {'amount': 0.735, 'unit': 'kg'}, 'heating value, gross': {'amount': 40.0, 'comment': 'At standard conditions; based on Meili et al. (2022) section 5.2', 'unit': 'MJ'}, 'heating value, net': {'amount': 36.0, 'comment': 'Literature value, Source: United Nations Statistics Division (2018) International Recommendations for Energy Statistics (IRES). Available at: http://unstats.un.org/unsd/statcom/doc11/BG-IRES.pdf.', 'unit': 'MJ'}, 'water content': {'amount': 0.0, 'comment': 'water mass/dry mass', 'unit': 'dimensionless'}, 'water in wet mass': {'amount': 0.0, 'comment': 'Tab 3.1 ecoinvent v2.2 report 6_V', 'unit': 'kg'}, 'wet mass': {'amount': 0.735, 'comment': 'An average density of 0.84 kg/m3 has been assumed', 'unit': 'kg'}}, 'activity': 'de9bb476-cf39-5023-a0a8-3d5a739f8be0', 'unit': 'cubic meter', 'comment': 'No uncertainty considered since this activity is only intended to link natural gas at low pressure to the corresponding high pressure supply.', 'CAS number': '14493-06-2', 'amount': 0.0468204683919064, 'uncertainty type': 0, 'loc': 0.0468204683919064, 'input': ('ecoinvent-3.9.1-cutoff', 'e88d630d212aae3e62d77689310ee8de'), 'output': ('ecoinvent-3.9.1-cutoff', '4695730316b4d42e7f6f52a22aebee63')} \n",
      "\t has SK as location\n",
      "Edge from 6058937a9068fbcffaf6ad7f5a15e9bc to 4695730316b4d42e7f6f52a22aebee63 with data: {'carbon_flow': 0.40357453499999996, 'flow': 'a9007f10-7e39-4d50-8f4a-d6d03ce3d673', 'type': 'technosphere', 'name': 'natural gas, high pressure', 'classifications': {'CPC': ['12020: Natural gas, liquefied or in the gaseous state']}, 'production volume': 0.0, 'properties': {'carbon allocation': {'amount': 0.544635, 'unit': 'kg'}, 'carbon content': {'amount': 0.741, 'unit': 'dimensionless'}, 'carbon content, fossil': {'amount': 0.741, 'comment': 'An average C content of 0.506 kg C/ m3 has been assumed (this average has been calculated using data in Tab 3.5, ecoinvent v2.2 report 6_V', 'unit': 'dimensionless'}, 'carbon content, non-fossil': {'amount': 0.0, 'unit': 'dimensionless'}, 'dry mass': {'amount': 0.735, 'unit': 'kg'}, 'heating value, gross': {'amount': 40.0, 'comment': 'At standard conditions; based on Meili et al. (2022) section 5.2', 'unit': 'MJ'}, 'heating value, net': {'amount': 36.0, 'comment': 'Literature value, Source: United Nations Statistics Division (2018) International Recommendations for Energy Statistics (IRES). Available at: http://unstats.un.org/unsd/statcom/doc11/BG-IRES.pdf.', 'unit': 'MJ'}, 'water content': {'amount': 0.0, 'comment': 'water mass/dry mass', 'unit': 'dimensionless'}, 'water in wet mass': {'amount': 0.0, 'comment': 'Tab 3.1 ecoinvent v2.2 report 6_V', 'unit': 'kg'}, 'wet mass': {'amount': 0.735, 'comment': 'An average density of 0.84 kg/m3 has been assumed', 'unit': 'kg'}}, 'activity': 'f3c90720-dcd2-5790-9fee-5616dac855b8', 'unit': 'cubic meter', 'comment': 'No uncertainty considered since this activity is only intended to link natural gas at low pressure to the corresponding high pressure supply.', 'CAS number': '14493-06-2', 'amount': 0.1739211150745498, 'uncertainty type': 0, 'loc': 0.1739211150745498, 'input': ('ecoinvent-3.9.1-cutoff', '6058937a9068fbcffaf6ad7f5a15e9bc'), 'output': ('ecoinvent-3.9.1-cutoff', '4695730316b4d42e7f6f52a22aebee63')} \n",
      "\t has RoE as location\n",
      "Edge from e7bb282744e6bbf0ab868a80ba3ce1bd to 4695730316b4d42e7f6f52a22aebee63 with data: {'carbon_flow': 0.40357453499999996, 'flow': 'a9007f10-7e39-4d50-8f4a-d6d03ce3d673', 'type': 'technosphere', 'name': 'natural gas, high pressure', 'classifications': {'CPC': ['12020: Natural gas, liquefied or in the gaseous state']}, 'production volume': 0.0, 'properties': {'carbon allocation': {'amount': 0.544635, 'unit': 'kg'}, 'carbon content': {'amount': 0.741, 'unit': 'dimensionless'}, 'carbon content, fossil': {'amount': 0.741, 'comment': 'An average C content of 0.506 kg C/ m3 has been assumed (this average has been calculated using data in Tab 3.5, ecoinvent v2.2 report 6_V', 'unit': 'dimensionless'}, 'carbon content, non-fossil': {'amount': 0.0, 'unit': 'dimensionless'}, 'dry mass': {'amount': 0.735, 'unit': 'kg'}, 'heating value, gross': {'amount': 40.0, 'comment': 'At standard conditions; based on Meili et al. (2022) section 5.2', 'unit': 'MJ'}, 'heating value, net': {'amount': 36.0, 'comment': 'Literature value, Source: United Nations Statistics Division (2018) International Recommendations for Energy Statistics (IRES). Available at: http://unstats.un.org/unsd/statcom/doc11/BG-IRES.pdf.', 'unit': 'MJ'}, 'water content': {'amount': 0.0, 'comment': 'water mass/dry mass', 'unit': 'dimensionless'}, 'water in wet mass': {'amount': 0.0, 'comment': 'Tab 3.1 ecoinvent v2.2 report 6_V', 'unit': 'kg'}, 'wet mass': {'amount': 0.735, 'comment': 'An average density of 0.84 kg/m3 has been assumed', 'unit': 'kg'}}, 'activity': 'fe1bb752-0f57-5040-bf64-61489f82bf15', 'unit': 'cubic meter', 'comment': 'No uncertainty considered since this activity is only intended to link natural gas at low pressure to the corresponding high pressure supply.', 'CAS number': '14493-06-2', 'amount': 0.09559178963347556, 'uncertainty type': 0, 'loc': 0.09559178963347556, 'input': ('ecoinvent-3.9.1-cutoff', 'e7bb282744e6bbf0ab868a80ba3ce1bd'), 'output': ('ecoinvent-3.9.1-cutoff', '4695730316b4d42e7f6f52a22aebee63')} \n",
      "\t has HU as location\n",
      "\n",
      "\n"
     ]
    }
   ],
   "source": [
    "incoming_edges = G.in_edges('4695730316b4d42e7f6f52a22aebee63', data=True)\n",
    "for u, v, edge_data in incoming_edges:\n",
    "    print(f\"Edge from {u} to {v} with data: {edge_data} \\n\\t has {G.nodes[u]['location']} as location\")\n",
    "\n",
    "print(\"\\n\")"
   ]
  },
  {
   "cell_type": "markdown",
   "metadata": {},
   "source": [
    "Lets zoom in one of those high pressure gas processes. What's in that? (and iterate on that for a while)"
   ]
  },
  {
   "cell_type": "code",
   "execution_count": 79,
   "metadata": {},
   "outputs": [
    {
     "data": {
      "text/plain": [
       "{'comment': 'This is a market activity. Each market represents the consumption mix of a product in a given geography, connecting suppliers with consumers of the same product in the same geographical area. Markets group the producers and the imports of the product (if relevant) within the same geographical area. They also account for transport (distribution) to the consumer and for the losses during that process, when relevant.\\nThis is the market for ‘natural gas, high pressure\" [m3], in the geography of Poland. The country-specific supply situation in 2019 was modelled based on production and trade statisitcs from EuroStat (2022a,b). The share of domestic production was approximated by supply from Germany. This activitiy contains information on energy and transport requirements (excluding for any imports, which are modelled in separate datasets) and the losses and emissions occurring during the distribution from Faist-Emmenegger et al. (2017).\\nThe product ‘natural gas, high pressure\" is a fossil fuel, for which a generic gross calorific value (GCV) of 40MJ/m3, a net calorific value (NCV) of 36.0 MJ/m3 and a density of 0.735kg/m3 for natural gas are applied, in line with the global statistics (referring to standard cubic meters, Sm3, measured at 15°C and 1013 mbar), based on Meili et al. (2022). It is used as a gaseous fuel and is sourced from oil and gas production and evaporation of liquid natural gas. The initial overpressure of the gas is 1-5 bar (1000-5000 hPa). Natural gas supplied at high pressure is predominantly used by large consumers, e.g., power plants and industries. \\nReference(s): \\nEuroStat (2022a) Imports of natural gas by partner country [NRG_TI_GAS]. Available from: https://ec.europa.eu/eurostat/ [accessed on 2022-06-28]\\nEuroStat (2022b) Supply, transformation and consumption of gas [NRG_CB_GAS]. Available from: https://ec.europa.eu/eurostat/ [accessed on 2022-06-28]\\nFaist-Emmenegger, M., Del Duce, A., Moreno Ruiz, E., Brunner, F. (2017) Update of the European natural gas supply chains (2017.10.04). ecoinvent Association. Zürich, Switzerland.\\nMeili, C., N. Jungbluth, M. Bussa (2022) Life cycle inventories of crude oil and natural gas extraction. ESU-services Ltd. Schaffhausen, Switzerland. Available from: http://esu-ser-vices.ch/data/public-lci-reports/\\nIncluded activities start:  This activity starts at the gate of the activities that produce \"natural gas, high pressure\", within the geography of Poland.\\nIncluded activities end:  This activity ends with the supply of \"natural gas, high pressure\" to the consumers of this product. The activity includes energy use, emissions, and infrastructure requirements for the distribution of natural gas to large-scale users (e.g., industry or power plants) at high pressure.\\nGeography:  Poland\\nTechnology:  The quantity of gas delivered in the HD and MD network is estimated. Industry, power plants and half of commercial and of others are assumed to be HD/MD.\\nTime period:  Market mix updated to represent supply situation in 2019. The rest of the inventory as described in Faist-Emmenegger et al. (2017)',\n",
       " 'classifications': [('ISIC rev.4 ecoinvent',\n",
       "   '3520:Manufacture of gas; distribution of gaseous fuels through mains'),\n",
       "  ('CPC', '12020: Natural gas, liquefied or in the gaseous state')],\n",
       " 'activity type': 'market activity',\n",
       " 'activity': '15a8900d-db6e-596f-a0f9-18c39a0b7eb5',\n",
       " 'database': 'ecoinvent-3.9.1-cutoff',\n",
       " 'filename': '15a8900d-db6e-596f-a0f9-18c39a0b7eb5_a9007f10-7e39-4d50-8f4a-d6d03ce3d673.spold',\n",
       " 'location': 'PL',\n",
       " 'name': 'market for natural gas, high pressure',\n",
       " 'synonyms': [],\n",
       " 'parameters': [],\n",
       " 'authors': {'data entry': {'name': 'Florentine Brunner',\n",
       "   'email': 'Brunner@ecoinvent.org'},\n",
       "  'data generator': {'name': 'Florentine Brunner',\n",
       "   'email': 'Brunner@ecoinvent.org'}},\n",
       " 'type': 'process',\n",
       " 'reference product': 'natural gas, high pressure',\n",
       " 'flow': 'a9007f10-7e39-4d50-8f4a-d6d03ce3d673',\n",
       " 'unit': 'cubic meter',\n",
       " 'production amount': 1.0,\n",
       " 'code': '84c52a94bf58be855ac22e6a538a16ba',\n",
       " 'id': 6532}"
      ]
     },
     "execution_count": 79,
     "metadata": {},
     "output_type": "execute_result"
    }
   ],
   "source": [
    "G.nodes['84c52a94bf58be855ac22e6a538a16ba']"
   ]
  },
  {
   "cell_type": "code",
   "execution_count": 80,
   "metadata": {},
   "outputs": [
    {
     "name": "stdout",
     "output_type": "stream",
     "text": [
      "market for natural gas, high pressure location= PL : 84c52a94bf58be855ac22e6a538a16ba 84c52a94bf58be855ac22e6a538a16ba {'carbon_flow': 0.40357453499999996, 'flow': 'a9007f10-7e39-4d50-8f4a-d6d03ce3d673', 'type': 'technosphere', 'name': 'natural gas, high pressure', 'classifications': {'CPC': ['12020: Natural gas, liquefied or in the gaseous state']}, 'production volume': 0.0, 'properties': {'carbon allocation': {'amount': 0.544635, 'unit': 'kg'}, 'carbon content': {'amount': 0.741, 'unit': 'dimensionless'}, 'carbon content, fossil': {'amount': 0.741, 'unit': 'dimensionless'}, 'carbon content, non-fossil': {'amount': 0.0, 'unit': 'dimensionless'}, 'dry mass': {'amount': 0.735, 'unit': 'kg'}, 'heating value, gross': {'amount': 40.0, 'unit': 'MJ'}, 'heating value, net': {'amount': 36.0, 'unit': 'MJ'}, 'price': {'amount': 0.166, 'unit': 'EUR2005'}, 'water content': {'amount': 0.0, 'unit': 'dimensionless'}, 'water in wet mass': {'amount': 0.0, 'unit': 'kg'}, 'wet mass': {'amount': 0.735, 'unit': 'kg'}}, 'activity': '15a8900d-db6e-596f-a0f9-18c39a0b7eb5', 'unit': 'cubic meter', 'comment': 'Amount was scaled to 1.', 'variable name': 'NG_RP', 'formula': '0.0256410256410256 * scaling_factor', 'CAS number': '14493-06-2', 'amount': 0.001, 'uncertainty type': 0, 'loc': 0.001, 'input': ('ecoinvent-3.9.1-cutoff', '84c52a94bf58be855ac22e6a538a16ba'), 'output': ('ecoinvent-3.9.1-cutoff', '84c52a94bf58be855ac22e6a538a16ba')}\n",
      "market for electricity, medium voltage location= PL : 57c178984cb1d22b4525fbd56906b0c6 84c52a94bf58be855ac22e6a538a16ba {'carbon_flow': 0.0, 'flow': '759b89bd-3aa6-42ad-b767-5bb9ef5d331d', 'type': 'technosphere', 'name': 'electricity, medium voltage', 'classifications': {'CPC': ['17100: Electrical energy']}, 'production volume': 0.0, 'properties': {'carbon allocation': {'amount': 0.0, 'unit': 'kg'}, 'carbon content': {'amount': 0.0, 'unit': 'dimensionless'}}, 'activity': '1dadaa32-0800-5801-93a2-ef5845fea64c', 'unit': 'kilowatt hour', 'comment': 'environmental report of Italian company\\nAmount was scaled to the amount of reference product.', 'formula': '7.63E-05 * scaling_factor', 'amount': 0.002975700000000006, 'pedigree': {'reliability': 1, 'completeness': 3, 'temporal correlation': 5, 'geographical correlation': 3, 'further technological correlation': 1}, 'uncertainty type': 2, 'loc': -5.8172759735442146, 'scale': 0.28407745422683583, 'scale without pedigree': 0.2, 'input': ('ecoinvent-3.9.1-cutoff', '57c178984cb1d22b4525fbd56906b0c6'), 'output': ('ecoinvent-3.9.1-cutoff', '84c52a94bf58be855ac22e6a538a16ba')}\n",
      "market for heat, district or industrial, natural gas location= Europe without Switzerland : c68f27120a91510b7b3d509f4f4cced9 84c52a94bf58be855ac22e6a538a16ba {'carbon_flow': 0.0, 'flow': '1125e767-7b5d-442e-81d6-9b0d3e1919ac', 'type': 'technosphere', 'name': 'heat, district or industrial, natural gas', 'classifications': {'CPC': ['17300: Steam and hot water']}, 'production volume': 0.0, 'properties': {'carbon allocation': {'amount': 0.0, 'unit': 'kg'}, 'carbon content': {'amount': 0.0, 'unit': 'dimensionless'}, 'heating value, net': {'amount': 1.0, 'unit': 'MJ'}}, 'activity': 'f7d18549-7d4c-52b7-9397-9582a65285f5', 'unit': 'megajoule', 'comment': 'environmental report of Italian company\\nAmount was scaled to the amount of reference product.', 'formula': '0.0015865 * scaling_factor', 'amount': 0.06187350000000012, 'pedigree': {'reliability': 1, 'completeness': 3, 'temporal correlation': 5, 'geographical correlation': 3, 'further technological correlation': 1}, 'uncertainty type': 2, 'loc': -2.7826633008113753, 'scale': 0.28407745422683583, 'scale without pedigree': 0.2, 'input': ('ecoinvent-3.9.1-cutoff', 'c68f27120a91510b7b3d509f4f4cced9'), 'output': ('ecoinvent-3.9.1-cutoff', '84c52a94bf58be855ac22e6a538a16ba')}\n",
      "natural gas, high pressure, import from DE location= PL : e539f45cd91200a5df9addb771047496 84c52a94bf58be855ac22e6a538a16ba {'carbon_flow': 0.40357453499999996, 'flow': 'a9007f10-7e39-4d50-8f4a-d6d03ce3d673', 'type': 'technosphere', 'name': 'natural gas, high pressure', 'classifications': {'CPC': ['12020: Natural gas, liquefied or in the gaseous state']}, 'production volume': 0.0, 'properties': {'carbon allocation': {'amount': 0.544635, 'unit': 'kg'}, 'carbon content': {'amount': 0.741, 'unit': 'dimensionless'}, 'carbon content, fossil': {'amount': 0.741, 'unit': 'dimensionless'}, 'carbon content, non-fossil': {'amount': 0.0, 'unit': 'dimensionless'}, 'dry mass': {'amount': 0.735, 'unit': 'kg'}, 'heating value, gross': {'amount': 40.0, 'unit': 'MJ'}, 'heating value, net': {'amount': 36.0, 'unit': 'MJ'}, 'price': {'amount': 0.166, 'unit': 'EUR2005'}, 'water content': {'amount': 0.0, 'unit': 'dimensionless'}, 'water in wet mass': {'amount': 0.0, 'unit': 'kg'}, 'wet mass': {'amount': 0.735, 'unit': 'kg'}}, 'activity': '4f49c17e-500e-5893-a71a-a488cb01df40', 'unit': 'cubic meter', 'amount': 0.424128116551517, 'uncertainty type': 0, 'loc': 0.424128116551517, 'input': ('ecoinvent-3.9.1-cutoff', 'e539f45cd91200a5df9addb771047496'), 'output': ('ecoinvent-3.9.1-cutoff', '84c52a94bf58be855ac22e6a538a16ba')}\n",
      "natural gas, high pressure, import from US location= RoE : 2e7bd93bac8ae8b8cb9366443bffc776 84c52a94bf58be855ac22e6a538a16ba {'carbon_flow': 0.40357453499999996, 'flow': 'a9007f10-7e39-4d50-8f4a-d6d03ce3d673', 'type': 'technosphere', 'name': 'natural gas, high pressure', 'classifications': {'CPC': ['12020: Natural gas, liquefied or in the gaseous state']}, 'production volume': 0.0, 'properties': {'carbon allocation': {'amount': 0.544635, 'unit': 'kg'}, 'carbon content': {'amount': 0.741, 'unit': 'dimensionless'}, 'carbon content, fossil': {'amount': 0.741, 'unit': 'dimensionless'}, 'carbon content, non-fossil': {'amount': 0.0, 'unit': 'dimensionless'}, 'dry mass': {'amount': 0.735, 'unit': 'kg'}, 'heating value, gross': {'amount': 40.0, 'unit': 'MJ'}, 'heating value, net': {'amount': 36.0, 'unit': 'MJ'}, 'price': {'amount': 0.166, 'unit': 'EUR2005'}, 'water content': {'amount': 0.0, 'unit': 'dimensionless'}, 'water in wet mass': {'amount': 0.0, 'unit': 'kg'}, 'wet mass': {'amount': 0.735, 'unit': 'kg'}}, 'activity': '60a3eff7-034c-5f8f-8fd3-79b572d11951', 'unit': 'cubic meter', 'amount': 0.0417377149117382, 'uncertainty type': 0, 'loc': 0.0417377149117382, 'input': ('ecoinvent-3.9.1-cutoff', '2e7bd93bac8ae8b8cb9366443bffc776'), 'output': ('ecoinvent-3.9.1-cutoff', '84c52a94bf58be855ac22e6a538a16ba')}\n",
      "natural gas, high pressure, import from NL location= RoE : 18a844c1b52181d75cd9bbfc696be67a 84c52a94bf58be855ac22e6a538a16ba {'carbon_flow': 0.40357453499999996, 'flow': 'a9007f10-7e39-4d50-8f4a-d6d03ce3d673', 'type': 'technosphere', 'name': 'natural gas, high pressure', 'classifications': {'CPC': ['12020: Natural gas, liquefied or in the gaseous state']}, 'production volume': 0.0, 'properties': {'carbon allocation': {'amount': 0.544635, 'unit': 'kg'}, 'carbon content': {'amount': 0.741, 'unit': 'dimensionless'}, 'carbon content, fossil': {'amount': 0.741, 'unit': 'dimensionless'}, 'carbon content, non-fossil': {'amount': 0.0, 'unit': 'dimensionless'}, 'dry mass': {'amount': 0.735, 'unit': 'kg'}, 'heating value, gross': {'amount': 40.0, 'unit': 'MJ'}, 'heating value, net': {'amount': 36.0, 'unit': 'MJ'}, 'price': {'amount': 0.166, 'unit': 'EUR2005'}, 'water content': {'amount': 0.0, 'unit': 'dimensionless'}, 'water in wet mass': {'amount': 0.0, 'unit': 'kg'}, 'wet mass': {'amount': 0.735, 'unit': 'kg'}}, 'activity': '8f08e3b4-d9ac-5e24-bb44-2b4cd5361d84', 'unit': 'cubic meter', 'amount': 1.683070344388882e-05, 'uncertainty type': 0, 'loc': 1.683070344388882e-05, 'input': ('ecoinvent-3.9.1-cutoff', '18a844c1b52181d75cd9bbfc696be67a'), 'output': ('ecoinvent-3.9.1-cutoff', '84c52a94bf58be855ac22e6a538a16ba')}\n",
      "natural gas, high pressure, import from RU location= RoE : 688a32f56aa068f71e360ebd504aab8b 84c52a94bf58be855ac22e6a538a16ba {'carbon_flow': 0.40357453499999996, 'flow': 'a9007f10-7e39-4d50-8f4a-d6d03ce3d673', 'type': 'technosphere', 'name': 'natural gas, high pressure', 'classifications': {'CPC': ['12020: Natural gas, liquefied or in the gaseous state']}, 'production volume': 0.0, 'properties': {'carbon allocation': {'amount': 0.544635, 'unit': 'kg'}, 'carbon content': {'amount': 0.741, 'unit': 'dimensionless'}, 'carbon content, fossil': {'amount': 0.741, 'unit': 'dimensionless'}, 'carbon content, non-fossil': {'amount': 0.0, 'unit': 'dimensionless'}, 'dry mass': {'amount': 0.735, 'unit': 'kg'}, 'heating value, gross': {'amount': 40.0, 'unit': 'MJ'}, 'heating value, net': {'amount': 36.0, 'unit': 'MJ'}, 'price': {'amount': 0.166, 'unit': 'EUR2005'}, 'water content': {'amount': 0.0, 'unit': 'dimensionless'}, 'water in wet mass': {'amount': 0.0, 'unit': 'kg'}, 'wet mass': {'amount': 0.735, 'unit': 'kg'}}, 'activity': 'ae80ad17-7b0d-5630-ae01-7d5d3b2ecca0', 'unit': 'cubic meter', 'amount': 0.424193009736187, 'uncertainty type': 0, 'loc': 0.424193009736187, 'input': ('ecoinvent-3.9.1-cutoff', '688a32f56aa068f71e360ebd504aab8b'), 'output': ('ecoinvent-3.9.1-cutoff', '84c52a94bf58be855ac22e6a538a16ba')}\n",
      "natural gas, high pressure, import from NO location= RoE : 53d3b953de7e8bb7fb7f839991dd962c 84c52a94bf58be855ac22e6a538a16ba {'carbon_flow': 0.40357453499999996, 'flow': 'a9007f10-7e39-4d50-8f4a-d6d03ce3d673', 'type': 'technosphere', 'name': 'natural gas, high pressure', 'classifications': {'CPC': ['12020: Natural gas, liquefied or in the gaseous state']}, 'production volume': 0.0, 'properties': {'carbon allocation': {'amount': 0.544635, 'unit': 'kg'}, 'carbon content': {'amount': 0.741, 'unit': 'dimensionless'}, 'carbon content, fossil': {'amount': 0.741, 'unit': 'dimensionless'}, 'carbon content, non-fossil': {'amount': 0.0, 'unit': 'dimensionless'}, 'dry mass': {'amount': 0.735, 'unit': 'kg'}, 'heating value, gross': {'amount': 40.0, 'unit': 'MJ'}, 'heating value, net': {'amount': 36.0, 'unit': 'MJ'}, 'price': {'amount': 0.166, 'unit': 'EUR2005'}, 'water content': {'amount': 0.0, 'unit': 'dimensionless'}, 'water in wet mass': {'amount': 0.0, 'unit': 'kg'}, 'wet mass': {'amount': 0.735, 'unit': 'kg'}}, 'activity': 'c6aa0505-d04d-5d63-aaa8-22688b7b4234', 'unit': 'cubic meter', 'amount': 0.008857102468503172, 'uncertainty type': 0, 'loc': 0.008857102468503172, 'input': ('ecoinvent-3.9.1-cutoff', '53d3b953de7e8bb7fb7f839991dd962c'), 'output': ('ecoinvent-3.9.1-cutoff', '84c52a94bf58be855ac22e6a538a16ba')}\n",
      "natural gas, high pressure, import from QA location= RoE : 9fe35cb91ac7a53c1317077b782221c5 84c52a94bf58be855ac22e6a538a16ba {'carbon_flow': 0.40357453499999996, 'flow': 'a9007f10-7e39-4d50-8f4a-d6d03ce3d673', 'type': 'technosphere', 'name': 'natural gas, high pressure', 'classifications': {'CPC': ['12020: Natural gas, liquefied or in the gaseous state']}, 'production volume': 0.0, 'properties': {'carbon allocation': {'amount': 0.544635, 'unit': 'kg'}, 'carbon content': {'amount': 0.741, 'unit': 'dimensionless'}, 'carbon content, fossil': {'amount': 0.741, 'unit': 'dimensionless'}, 'carbon content, non-fossil': {'amount': 0.0, 'unit': 'dimensionless'}, 'dry mass': {'amount': 0.735, 'unit': 'kg'}, 'heating value, gross': {'amount': 40.0, 'unit': 'MJ'}, 'heating value, net': {'amount': 36.0, 'unit': 'MJ'}, 'price': {'amount': 0.166, 'unit': 'EUR2005'}, 'water content': {'amount': 0.0, 'unit': 'dimensionless'}, 'water in wet mass': {'amount': 0.0, 'unit': 'kg'}, 'wet mass': {'amount': 0.735, 'unit': 'kg'}}, 'activity': 'dc5097d8-493e-5a07-9764-8aae258bd219', 'unit': 'cubic meter', 'amount': 0.1010672256286113, 'uncertainty type': 0, 'loc': 0.1010672256286113, 'input': ('ecoinvent-3.9.1-cutoff', '9fe35cb91ac7a53c1317077b782221c5'), 'output': ('ecoinvent-3.9.1-cutoff', '84c52a94bf58be855ac22e6a538a16ba')}\n",
      "pipeline construction, natural gas, high pressure distribution network location= Europe without Switzerland : 8a9b453dded606d1202b77f1742d3729 84c52a94bf58be855ac22e6a538a16ba {'carbon_flow': 0.0, 'flow': 'e35c5939-e217-4469-a09c-0c72ecb3b1cb', 'type': 'technosphere', 'name': 'pipeline, natural gas, high pressure distribution network', 'classifications': {'CPC': ['53251: Local pipelines']}, 'production volume': 0.0, 'properties': {'carbon allocation': {'amount': 0.0, 'unit': 'kg'}, 'carbon content': {'amount': 0.0, 'unit': 'dimensionless'}, 'lifetime': {'amount': 40.0, 'unit': 'year'}, 'lifetime capacity [MJ]': {'amount': 765000000.0, 'unit': 'MJ'}}, 'activity': 'cde5caba-a284-5b04-a809-23d4f80ac338', 'unit': 'kilometer', 'comment': 'Statistics of distribution\\nAmount was scaled to the amount of reference product.;activityLink introduced to establish a direct link to the corresponding regional supply of this product', 'formula': '1.48E-09 * scaling_factor', 'amount': 5.772000000000011e-08, 'pedigree': {'reliability': 2, 'completeness': 1, 'temporal correlation': 5, 'geographical correlation': 1, 'further technological correlation': 1}, 'uncertainty type': 2, 'loc': -16.66766210304074, 'scale': 0.6169278726074873, 'scale without pedigree': 0.5830951894845301, 'input': ('ecoinvent-3.9.1-cutoff', '8a9b453dded606d1202b77f1742d3729'), 'output': ('ecoinvent-3.9.1-cutoff', '84c52a94bf58be855ac22e6a538a16ba')}\n",
      "market for transport, pipeline, long distance, natural gas location= RER : bd6ffb621214716eabf1192826fcd864 84c52a94bf58be855ac22e6a538a16ba {'carbon_flow': 0.0, 'flow': '6e57739e-8655-4d87-8324-11ed616e3048', 'type': 'technosphere', 'name': 'transport, pipeline, long distance, natural gas', 'classifications': {'CPC': ['65131: Transport services via pipeline of petroleum and natural gas']}, 'production volume': 0.0, 'properties': {'carbon allocation': {'amount': 0.0, 'unit': 'kg'}, 'carbon content': {'amount': 0.0, 'unit': 'dimensionless'}}, 'activity': '01602e17-4076-5e8e-a758-0f514b3ba1e6', 'unit': 'ton kilometer', 'comment': 'Estimated transport distance of 850km based on a map of the natural gas transmission grid in Poland (https://swi.gaz-system.pl/swi/public/#!/gis/map/preview?id=10059&lang=enand, accessed 20.6.2018) and measurements in Google Earth.', 'amount': 0.7140000000000014, 'pedigree': {'reliability': 4, 'completeness': 4, 'temporal correlation': 5, 'geographical correlation': 3, 'further technological correlation': 1}, 'uncertainty type': 2, 'loc': -0.3368723166425507, 'scale': 0.47968739820845824, 'scale without pedigree': 0.4242640687119285, 'input': ('ecoinvent-3.9.1-cutoff', 'bd6ffb621214716eabf1192826fcd864'), 'output': ('ecoinvent-3.9.1-cutoff', '84c52a94bf58be855ac22e6a538a16ba')}\n",
      "\n",
      "\n"
     ]
    }
   ],
   "source": [
    "incoming_edges = G.in_edges('84c52a94bf58be855ac22e6a538a16ba', data=True)\n",
    "for u, v, edge_data in incoming_edges:\n",
    "    input = G.nodes[u]\n",
    "    if input:\n",
    "        print(input['name'], 'location=', input['location'], ':', u, v, edge_data)\n",
    "\n",
    "print(\"\\n\")"
   ]
  },
  {
   "cell_type": "code",
   "execution_count": 81,
   "metadata": {},
   "outputs": [
    {
     "name": "stdout",
     "output_type": "stream",
     "text": [
      "market for electricity, medium voltage location= PL : 57c178984cb1d22b4525fbd56906b0c6 57c178984cb1d22b4525fbd56906b0c6 {'carbon_flow': 0.0, 'flow': '759b89bd-3aa6-42ad-b767-5bb9ef5d331d', 'type': 'technosphere', 'name': 'electricity, medium voltage', 'classifications': {'CPC': ['17100: Electrical energy']}, 'production volume': 0.0, 'properties': {'carbon allocation': {'amount': 0.0, 'unit': 'kg'}, 'carbon content': {'amount': 0.0, 'unit': 'dimensionless'}, 'price': {'amount': 0.1, 'unit': 'EUR2005'}}, 'activity': '1dadaa32-0800-5801-93a2-ef5845fea64c', 'unit': 'kilowatt hour', 'amount': 0.00273139403743587, 'uncertainty type': 0, 'loc': 0.00273139403743587, 'input': ('ecoinvent-3.9.1-cutoff', '57c178984cb1d22b4525fbd56906b0c6'), 'output': ('ecoinvent-3.9.1-cutoff', '57c178984cb1d22b4525fbd56906b0c6')}\n",
      "electricity voltage transformation from high to medium voltage location= PL : eee1d6168852e91e9403db3dc9081472 57c178984cb1d22b4525fbd56906b0c6 {'carbon_flow': 0.0, 'flow': '759b89bd-3aa6-42ad-b767-5bb9ef5d331d', 'type': 'technosphere', 'name': 'electricity, medium voltage', 'classifications': {'CPC': ['17100: Electrical energy']}, 'production volume': 0.0, 'properties': {'carbon allocation': {'amount': 0.0, 'unit': 'kg'}, 'carbon content': {'amount': 0.0, 'unit': 'dimensionless'}, 'price': {'amount': 0.1, 'unit': 'EUR2005'}}, 'activity': 'a57ae7b3-2d57-5cbe-9834-70623e073682', 'unit': 'kilowatt hour', 'amount': 0.998997484404453, 'uncertainty type': 0, 'loc': 0.998997484404453, 'input': ('ecoinvent-3.9.1-cutoff', 'eee1d6168852e91e9403db3dc9081472'), 'output': ('ecoinvent-3.9.1-cutoff', '57c178984cb1d22b4525fbd56906b0c6')}\n",
      "electricity, from municipal waste incineration to generic market for electricity, medium voltage location= PL : 3a7d471ab319e0edbeeeaea9298efca5 57c178984cb1d22b4525fbd56906b0c6 {'carbon_flow': 0.0, 'flow': '759b89bd-3aa6-42ad-b767-5bb9ef5d331d', 'type': 'technosphere', 'name': 'electricity, medium voltage', 'classifications': {'CPC': ['17100: Electrical energy']}, 'production volume': 0.0, 'properties': {'carbon allocation': {'amount': 0.0, 'unit': 'kg'}, 'carbon content': {'amount': 0.0, 'unit': 'dimensionless'}, 'price': {'amount': 0.1, 'unit': 'EUR2005'}}, 'activity': 'bb46c746-1e5c-51e4-a635-c3a6a66dfa44', 'unit': 'kilowatt hour', 'amount': 0.00100251559554735, 'uncertainty type': 0, 'loc': 0.00100251559554735, 'input': ('ecoinvent-3.9.1-cutoff', '3a7d471ab319e0edbeeeaea9298efca5'), 'output': ('ecoinvent-3.9.1-cutoff', '57c178984cb1d22b4525fbd56906b0c6')}\n",
      "market for sulfur hexafluoride, liquid location= RER : 1a661f7ce0fdd2bdadd3992daa8126c1 57c178984cb1d22b4525fbd56906b0c6 {'carbon_flow': 0.0, 'flow': 'ab5dcfa8-e8f9-4923-84d4-51b25a898fa1', 'type': 'technosphere', 'name': 'sulfur hexafluoride, liquid', 'classifications': {'CPC': ['342: Basic inorganic chemicals n.e.c.']}, 'production volume': 0.0, 'properties': {'carbon allocation': {'amount': 0.0, 'unit': 'kg'}, 'carbon content': {'amount': 0.0, 'unit': 'dimensionless'}, 'carbon content, fossil': {'amount': 0.0, 'comment': \"['SF6']\", 'unit': 'dimensionless'}, 'carbon content, non-fossil': {'amount': 0.0, 'comment': \"['SF6']\", 'unit': 'dimensionless'}, 'dry mass': {'amount': 1.0, 'unit': 'kg'}, 'water content': {'amount': 0.0, 'comment': \"['water mass/dry mass']\", 'unit': 'dimensionless'}, 'water in wet mass': {'amount': 0.0, 'unit': 'kg'}, 'wet mass': {'amount': 1.0, 'unit': 'kg'}}, 'activity': '7bb9d5d2-7aa1-5483-8b9b-feffd93447be', 'unit': 'kilogram', 'comment': 'Calculated value', 'formula': 'sf6_emissions', 'CAS number': '2551-62-4', 'amount': 1.13e-07, 'pedigree': {'reliability': 1, 'completeness': 1, 'temporal correlation': 3, 'geographical correlation': 1, 'further technological correlation': 1}, 'uncertainty type': 2, 'loc': -15.995878018234071, 'scale': 0.044721359549995794, 'scale without pedigree': 0.0, 'input': ('ecoinvent-3.9.1-cutoff', '1a661f7ce0fdd2bdadd3992daa8126c1'), 'output': ('ecoinvent-3.9.1-cutoff', '57c178984cb1d22b4525fbd56906b0c6')}\n",
      "market for transmission network, electricity, medium voltage location= GLO : 953e2d91354883afebbd5247b70a99b2 57c178984cb1d22b4525fbd56906b0c6 {'carbon_flow': 0.0, 'flow': '46712f19-9f47-43d7-a13d-5fac729070ba', 'type': 'technosphere', 'name': 'transmission network, electricity, medium voltage', 'classifications': {'CPC': ['53252: Local cables and related works']}, 'production volume': 0.0, 'properties': {'carbon allocation': {'amount': 0.0, 'unit': 'kg'}, 'carbon content': {'amount': 0.0, 'unit': 'dimensionless'}}, 'activity': 'c828f7fb-ccd3-59be-bd74-fa4ef6f31c6d', 'unit': 'kilometer', 'comment': 'Estimation. Data taken over from Switzerland. \\n\\nSwiss data are calculated values based on the electricity transported in this voltage level (57268 GWh) and the total medium voltage power line length in Switzerland (cables and aerial lines - 42671 km). Lifetime is assumed to be 40 years. \\n\\nSee Itten et al. 2014, Tab. 4.1 and Tab. 4.3.', 'formula': '(42671)/(57268000000*40)', 'amount': 1.86277676887616e-08, 'pedigree': {'reliability': 3, 'completeness': 2, 'temporal correlation': 4, 'geographical correlation': 4, 'further technological correlation': 3}, 'uncertainty type': 2, 'loc': -17.798612482981905, 'scale': 0.3445286635390443, 'scale without pedigree': 0.31622776601683794, 'input': ('ecoinvent-3.9.1-cutoff', '953e2d91354883afebbd5247b70a99b2'), 'output': ('ecoinvent-3.9.1-cutoff', '57c178984cb1d22b4525fbd56906b0c6')}\n",
      "\n",
      "\n"
     ]
    }
   ],
   "source": [
    "incoming_edges = G.in_edges('57c178984cb1d22b4525fbd56906b0c6', data=True)\n",
    "for u, v, edge_data in incoming_edges:\n",
    "    input = G.nodes[u]\n",
    "    if input:\n",
    "        print(input['name'], 'location=', input['location'], ':', u, v, edge_data)\n",
    "\n",
    "print(\"\\n\")"
   ]
  },
  {
   "cell_type": "code",
   "execution_count": 82,
   "metadata": {},
   "outputs": [
    {
     "name": "stdout",
     "output_type": "stream",
     "text": [
      "market for sulfur hexafluoride, liquid location= RER : 1a661f7ce0fdd2bdadd3992daa8126c1 1a661f7ce0fdd2bdadd3992daa8126c1 {'carbon_flow': 0.0, 'flow': 'ab5dcfa8-e8f9-4923-84d4-51b25a898fa1', 'type': 'production', 'name': 'sulfur hexafluoride, liquid', 'classifications': {'CPC': ['342: Basic inorganic chemicals n.e.c.']}, 'production volume': 1.32236940655721, 'properties': {'carbon allocation': {'amount': 0.0, 'unit': 'kg'}, 'carbon content': {'amount': 0.0, 'unit': 'dimensionless'}, 'carbon content, fossil': {'amount': 0.0, 'unit': 'dimensionless'}, 'carbon content, non-fossil': {'amount': 0.0, 'unit': 'dimensionless'}, 'dry mass': {'amount': 1.0, 'unit': 'kg'}, 'price': {'amount': 3.387337286, 'comment': 'Calculated based on inputs: The price of the product has been calculated as a sum of the values of the material and energy inputs for this product. This value is therefore a rough estimation. It may underestimate the real price since there are additional expenses when producing any product. These expences can include for example labour costs, treatment of waste materials and profit for the producer. Please consider carefully whether this level of data quality is acceptable for your application.', 'unit': 'EUR2005'}, 'water content': {'amount': 0.0, 'unit': 'dimensionless'}, 'water in wet mass': {'amount': 0.0, 'unit': 'kg'}, 'wet mass': {'amount': 1.0, 'unit': 'kg'}}, 'activity': '7bb9d5d2-7aa1-5483-8b9b-feffd93447be', 'unit': 'kilogram', 'CAS number': '2551-62-4', 'amount': 1.0, 'uncertainty type': 0, 'loc': 1.0, 'input': ('ecoinvent-3.9.1-cutoff', '1a661f7ce0fdd2bdadd3992daa8126c1'), 'output': ('ecoinvent-3.9.1-cutoff', '1a661f7ce0fdd2bdadd3992daa8126c1')}\n",
      "sulfur hexafluoride production, liquid location= RER : 62f96280fc2bd351e2ce98e3813e7278 1a661f7ce0fdd2bdadd3992daa8126c1 {'carbon_flow': 0.0, 'flow': 'ab5dcfa8-e8f9-4923-84d4-51b25a898fa1', 'type': 'technosphere', 'name': 'sulfur hexafluoride, liquid', 'classifications': {'CPC': ['342: Basic inorganic chemicals n.e.c.']}, 'production volume': 0.0, 'properties': {'carbon allocation': {'amount': 0.0, 'unit': 'kg'}, 'carbon content': {'amount': 0.0, 'unit': 'dimensionless'}, 'carbon content, fossil': {'amount': 0.0, 'unit': 'dimensionless'}, 'carbon content, non-fossil': {'amount': 0.0, 'unit': 'dimensionless'}, 'dry mass': {'amount': 1.0, 'unit': 'kg'}, 'price': {'amount': 3.387337286, 'unit': 'EUR2005'}, 'water content': {'amount': 0.0, 'unit': 'dimensionless'}, 'water in wet mass': {'amount': 0.0, 'unit': 'kg'}, 'wet mass': {'amount': 1.0, 'unit': 'kg'}}, 'activity': '81cc5383-5a7f-583b-bc9b-8439c12701e5', 'unit': 'kilogram', 'amount': 1.0, 'uncertainty type': 0, 'loc': 1.0, 'input': ('ecoinvent-3.9.1-cutoff', '62f96280fc2bd351e2ce98e3813e7278'), 'output': ('ecoinvent-3.9.1-cutoff', '1a661f7ce0fdd2bdadd3992daa8126c1')}\n",
      "market group for transport, freight train location= RER : 73953ae8ab4e2bc1a8fef859a81b0fe8 1a661f7ce0fdd2bdadd3992daa8126c1 {'carbon_flow': 0.0, 'flow': '0ace02fa-eca5-482d-a829-c18e46a52db4', 'type': 'technosphere', 'name': 'transport, freight train', 'classifications': {'CPC': ['6512: Railway transport services of freight']}, 'production volume': 0.0, 'properties': {'carbon allocation': {'amount': 0.0, 'unit': 'kg'}, 'carbon content': {'amount': 0.0, 'unit': 'dimensionless'}}, 'activity': '9b9a4143-b50b-52d9-aeb1-08f407794694', 'unit': 'ton kilometer', 'comment': \"Transport distance based on eurostat transport statistics for railway transport of goods. The transport data was extracted from the database leaf 'Railway transport - goods transported, by group of goods - from 2008 onwards based on NST 2007 (1 000 t, million tkm) (rail_go_grpgood)' (http://ec.europa.eu/eurostat/data/database) on the 2018-06-01. The transport distance was calculated based on the total mass of goods transported and total payload-distance for the NST 2007 category 'GT08 - Chemicals, chemical products, and man-made fibers; rubber and plastic products ; nuclear fuel' in the year 2016 for all countries for which data was available. The average distance of railway transport for goods in this category in 2016 was 297 km. The fraction of goods transported by rail (in terms of mass) relative to the total mass of goods transported by road, rail and inland waterways was 15% in 2016. Therefore, the average distance that goods travelled by rail in 2016 was 44 km. This value is assumed to be representative for Europe.\", 'amount': 0.0438, 'pedigree': {'reliability': 3, 'completeness': 5, 'temporal correlation': 3, 'geographical correlation': 1, 'further technological correlation': 4}, 'uncertainty type': 2, 'loc': -3.128121461599737, 'scale': 0.41472882706655445, 'scale without pedigree': 0.34641016151377546, 'input': ('ecoinvent-3.9.1-cutoff', '73953ae8ab4e2bc1a8fef859a81b0fe8'), 'output': ('ecoinvent-3.9.1-cutoff', '1a661f7ce0fdd2bdadd3992daa8126c1')}\n",
      "market for transport, freight, inland waterways, barge location= RER : 3e2230737066a040f1553cc155f58eb5 1a661f7ce0fdd2bdadd3992daa8126c1 {'carbon_flow': 0.0, 'flow': '068bf76a-bfaa-435c-85ed-3d2bb2c4bb4f', 'type': 'technosphere', 'name': 'transport, freight, inland waterways, barge', 'classifications': {'CPC': ['65229: Other inland water transport services of freight']}, 'production volume': 0.0, 'properties': {'carbon allocation': {'amount': 0.0, 'unit': 'kg'}, 'carbon content': {'amount': 0.0, 'unit': 'dimensionless'}}, 'activity': '2ed39f72-d228-5be9-b9e8-053d36ab31ce', 'unit': 'ton kilometer', 'comment': \"Transport distance based on eurostat transport statistics for transport of goods by inland waterways. The transport data was extracted from the database leaf 'Transport by type of good (from 2007 onwards with NST2007) (iww_go_atygo)' (http://ec.europa.eu/eurostat/data/database) on the 2018-06-01. The transport distance was calculated based on the total mass of goods transported and total payload-distance for the NST 2007 category 'GT08 - Chemicals, chemical products, and man-made fibers; rubber and plastic products ; nuclear fuel' in the year 2016 for the European Union (current composition). The average distance of transport by inland waterways for goods in this category in 2016 was 365 km. The fraction of goods transported by inland waterways (in terms of mass) relative to the total mass of goods transported by road, rail and inland waterways was 6% in 2016. Therefore, the average distance that goods travelled by inland waterways in 2016 was 22 km. This value is assumed to be representative for Europe.\", 'amount': 0.0219, 'pedigree': {'reliability': 3, 'completeness': 5, 'temporal correlation': 3, 'geographical correlation': 1, 'further technological correlation': 4}, 'uncertainty type': 2, 'loc': -3.8212686421596818, 'scale': 0.41472882706655445, 'scale without pedigree': 0.34641016151377546, 'input': ('ecoinvent-3.9.1-cutoff', '3e2230737066a040f1553cc155f58eb5'), 'output': ('ecoinvent-3.9.1-cutoff', '1a661f7ce0fdd2bdadd3992daa8126c1')}\n",
      "market for transport, freight, lorry, unspecified location= RER : d6655a43e0d3a5f786929ade5064e0fd 1a661f7ce0fdd2bdadd3992daa8126c1 {'carbon_flow': 0.0, 'flow': 'cfbce515-3f54-4411-ad9d-3d26b7faa15a', 'type': 'technosphere', 'name': 'transport, freight, lorry, unspecified', 'classifications': {'CPC': ['6511: Road transport services of freight']}, 'production volume': 0.0, 'properties': {'carbon allocation': {'amount': 0.0, 'unit': 'kg'}, 'carbon content': {'amount': 0.0, 'unit': 'dimensionless'}}, 'activity': '13c7696b-9af5-5c06-91b1-a08b70b87e0b', 'unit': 'ton kilometer', 'comment': \"Transport distance based on eurostat transport statistics for road freight transport. The transport data was extracted from the database leaf 'Annual road freight transport, by type of goods and type of transport (1 000 t, Mio Tkm), from 2008 onwards (road_go_ta_tg)' (http://ec.europa.eu/eurostat/data/database) on the 2018-06-01. The transport distance was calculated based on the total mass of goods transported and total payload-distance for the NST 2007 category 'GT08 - Chemicals, chemical products, and man-made fibers; rubber and plastic products ; nuclear fuel' in the year 2016 for all countries for which data was available. The average distance of road transport for goods in this category in 2016 was 216 km. The fraction of goods transported by road (in terms of mass) relative to the total mass of goods transported by road, rail and inland waterways was 79% in 2016. Therefore, the average distance that goods travelled by road in 2016 was 171 km. This value is assumed to be representative for Europe.\", 'amount': 0.1713, 'pedigree': {'reliability': 3, 'completeness': 5, 'temporal correlation': 3, 'geographical correlation': 1, 'further technological correlation': 4}, 'uncertainty type': 2, 'loc': -1.7643388736520629, 'scale': 0.41472882706655445, 'scale without pedigree': 0.34641016151377546, 'input': ('ecoinvent-3.9.1-cutoff', 'd6655a43e0d3a5f786929ade5064e0fd'), 'output': ('ecoinvent-3.9.1-cutoff', '1a661f7ce0fdd2bdadd3992daa8126c1')}\n",
      "\n",
      "\n"
     ]
    }
   ],
   "source": [
    "incoming_edges = G.in_edges('1a661f7ce0fdd2bdadd3992daa8126c1', data=True)\n",
    "for u, v, edge_data in incoming_edges:\n",
    "    input = G.nodes[u]\n",
    "    if input:\n",
    "        print(input['name'], 'location=', input['location'], ':', u, v, edge_data)\n",
    "\n",
    "print(\"\\n\")"
   ]
  },
  {
   "cell_type": "code",
   "execution_count": 83,
   "metadata": {},
   "outputs": [
    {
     "name": "stdout",
     "output_type": "stream",
     "text": [
      "sulfur hexafluoride production, liquid location= RER : 62f96280fc2bd351e2ce98e3813e7278 62f96280fc2bd351e2ce98e3813e7278 {'carbon_flow': 0.0, 'flow': 'ab5dcfa8-e8f9-4923-84d4-51b25a898fa1', 'type': 'production', 'name': 'sulfur hexafluoride, liquid', 'classifications': {'CPC': ['342: Basic inorganic chemicals n.e.c.']}, 'production volume': 1.32236940655721, 'properties': {'carbon allocation': {'amount': 0.0, 'unit': 'kg'}, 'carbon content': {'amount': 0.0, 'unit': 'dimensionless'}, 'carbon content, fossil': {'amount': 0.0, 'comment': 'SF6', 'unit': 'dimensionless'}, 'carbon content, non-fossil': {'amount': 0.0, 'comment': 'SF6', 'unit': 'dimensionless'}, 'dry mass': {'amount': 1.0, 'unit': 'kg'}, 'price': {'amount': 3.387337286, 'comment': 'Calculated based on inputs: The price of the product has been calculated as a sum of the values of the material and energy inputs for this product. This value is therefore a rough estimation. It may underestimate the real price since there are additional expenses when producing any product. These expences can include for example labour costs, treatment of waste materials and profit for the producer. Please consider carefully whether this level of data quality is acceptable for your application.', 'unit': 'EUR2005'}, 'water content': {'amount': 0.0, 'comment': 'water mass/dry mass', 'unit': 'dimensionless'}, 'water in wet mass': {'amount': 0.0, 'unit': 'kg'}, 'wet mass': {'amount': 1.0, 'unit': 'kg'}}, 'activity': '81cc5383-5a7f-583b-bc9b-8439c12701e5', 'unit': 'kilogram', 'comment': 'EcoSpold01Location=RER', 'CAS number': '2551-62-4', 'amount': 1.0, 'uncertainty type': 0, 'loc': 1.0, 'input': ('ecoinvent-3.9.1-cutoff', '62f96280fc2bd351e2ce98e3813e7278'), 'output': ('ecoinvent-3.9.1-cutoff', '62f96280fc2bd351e2ce98e3813e7278')}\n",
      "chemical factory construction, organics location= RER : a8a02038cba7a8b9b68b253b0993fe5d 62f96280fc2bd351e2ce98e3813e7278 {'carbon_flow': 0.0, 'flow': '3d0fe4e0-eac9-4704-b3fd-09b8594d0fbe', 'type': 'technosphere', 'name': 'chemical factory, organics', 'classifications': {'CPC': ['53269: Other constructions for manufacturing']}, 'production volume': 0.0, 'properties': {'carbon allocation': {'amount': 0.0, 'unit': 'kg'}, 'carbon content': {'amount': 0.0, 'unit': 'dimensionless'}}, 'activity': '033d97ed-e5a0-5d45-ad99-104f00609adb', 'unit': 'unit', 'comment': 'Rough estimation\\nEcoSpold01Location=RER', 'amount': 4e-10, 'pedigree': {'reliability': 5, 'completeness': 5, 'temporal correlation': 5, 'geographical correlation': 1, 'further technological correlation': 5}, 'uncertainty type': 2, 'loc': -21.639556568820566, 'scale': 0.792464510246358, 'scale without pedigree': 0.648074069840786, 'input': ('ecoinvent-3.9.1-cutoff', 'a8a02038cba7a8b9b68b253b0993fe5d'), 'output': ('ecoinvent-3.9.1-cutoff', '62f96280fc2bd351e2ce98e3813e7278')}\n",
      "market for fluorine, liquid location= RER : 04a105ec24f26aa8ea9eb6a1bedc2b70 62f96280fc2bd351e2ce98e3813e7278 {'carbon_flow': 0.0, 'flow': '70caf413-93ee-4843-90ba-4c2f76373d04', 'type': 'technosphere', 'name': 'fluorine, liquid', 'classifications': {'CPC': ['34231: Chemical elements n.e.c.; inorganic acids except phosphoric, nitric and sulphonitric; inorganic oxygen compoun[…]']}, 'production volume': 0.0, 'properties': {'carbon allocation': {'amount': 0.0, 'unit': 'kg'}, 'carbon content': {'amount': 0.0, 'unit': 'dimensionless'}, 'carbon content, fossil': {'amount': 0.0, 'comment': 'F2', 'unit': 'dimensionless'}, 'carbon content, non-fossil': {'amount': 0.0, 'comment': 'F2', 'unit': 'dimensionless'}, 'dry mass': {'amount': 1.0, 'unit': 'kg'}, 'water content': {'amount': 0.0, 'comment': 'water mass/dry mass', 'unit': 'dimensionless'}, 'water in wet mass': {'amount': 0.0, 'unit': 'kg'}, 'wet mass': {'amount': 1.0, 'unit': 'kg'}}, 'activity': '3a533554-8d22-5c97-9f9f-e94e50f928bf', 'unit': 'kilogram', 'comment': 'Other energy carriers possible\\nEcoSpold01Location=RER', 'CAS number': '7782-41-4', 'amount': 0.781, 'pedigree': {'reliability': 3, 'completeness': 4, 'temporal correlation': 5, 'geographical correlation': 3, 'further technological correlation': 3}, 'uncertainty type': 2, 'loc': -0.24718012914245105, 'scale': 0.26851443164195105, 'scale without pedigree': 0.1414213562373095, 'input': ('ecoinvent-3.9.1-cutoff', '04a105ec24f26aa8ea9eb6a1bedc2b70'), 'output': ('ecoinvent-3.9.1-cutoff', '62f96280fc2bd351e2ce98e3813e7278')}\n",
      "market for sulfur location= GLO : aaaab2e131889d2e59ef6c8e582a8d0e 62f96280fc2bd351e2ce98e3813e7278 {'carbon_flow': 0.0, 'flow': 'fe8e025f-14c8-4abd-86df-1797ab26d3db', 'type': 'technosphere', 'name': 'sulfur', 'classifications': {'CPC': ['34520: Sulphur, except sublimed sulphur, precipitated sulphur and colloidal sulphur']}, 'production volume': 0.0, 'properties': {'carbon allocation': {'amount': 0.0, 'unit': 'kg'}, 'carbon content': {'amount': 0.0, 'unit': 'dimensionless'}, 'carbon content, fossil': {'amount': 0.0, 'comment': 'S2.  ', 'unit': 'dimensionless'}, 'carbon content, non-fossil': {'amount': 0.0, 'comment': 'S2.  ', 'unit': 'dimensionless'}, 'dry mass': {'amount': 1.0, 'unit': 'kg'}, 'water content': {'amount': 0.0, 'comment': 'water mass/dry mass', 'unit': 'dimensionless'}, 'water in wet mass': {'amount': 0.0, 'unit': 'kg'}, 'wet mass': {'amount': 1.0, 'unit': 'kg'}}, 'activity': '55d9b01f-18f1-5d1d-a841-973075319cca', 'unit': 'kilogram', 'comment': 'Literature\\nEcoSpold01Location=RER', 'CAS number': '7704-34-9', 'amount': 0.219, 'pedigree': {'reliability': 3, 'completeness': 4, 'temporal correlation': 5, 'geographical correlation': 3, 'further technological correlation': 1}, 'uncertainty type': 2, 'loc': -1.5186835491656363, 'scale': 0.25317977802344327, 'scale without pedigree': 0.1414213562373095, 'input': ('ecoinvent-3.9.1-cutoff', 'aaaab2e131889d2e59ef6c8e582a8d0e'), 'output': ('ecoinvent-3.9.1-cutoff', '62f96280fc2bd351e2ce98e3813e7278')}\n",
      "\n",
      "\n"
     ]
    }
   ],
   "source": [
    "incoming_edges = G.in_edges('62f96280fc2bd351e2ce98e3813e7278', data=True)\n",
    "for u, v, edge_data in incoming_edges:\n",
    "    input = G.nodes[u]\n",
    "    if input:\n",
    "        print(input['name'], 'location=', input['location'], ':', u, v, edge_data)\n",
    "\n",
    "print(\"\\n\")"
   ]
  },
  {
   "cell_type": "markdown",
   "metadata": {},
   "source": [
    "Okay, this gives us a better sense of how the edges and nodes are operating, and makes me feel bettter about using production volume as the edge weight.\n",
    "\n",
    "It seems like maybe we should split the nodes into different types:\n",
    "\n",
    "* markets\n",
    "* production\n",
    "\n",
    "For now, lets get a little drawing of a subgraph of our initial node."
   ]
  },
  {
   "cell_type": "code",
   "execution_count": 84,
   "metadata": {},
   "outputs": [
    {
     "ename": "KeyError",
     "evalue": "'weight'",
     "output_type": "error",
     "traceback": [
      "\u001b[1;31m---------------------------------------------------------------------------\u001b[0m",
      "\u001b[1;31mKeyError\u001b[0m                                  Traceback (most recent call last)",
      "Cell \u001b[1;32mIn[84], line 7\u001b[0m\n\u001b[0;32m      5\u001b[0m neighbors \u001b[38;5;241m=\u001b[39m \u001b[38;5;28mset\u001b[39m(G\u001b[38;5;241m.\u001b[39msuccessors(node_1)) \u001b[38;5;241m|\u001b[39m \u001b[38;5;28mset\u001b[39m(G\u001b[38;5;241m.\u001b[39mpredecessors(node_1)) \n\u001b[0;32m      6\u001b[0m subgraph \u001b[38;5;241m=\u001b[39m G\u001b[38;5;241m.\u001b[39msubgraph( [node_1] \u001b[38;5;241m+\u001b[39m \u001b[38;5;28mlist\u001b[39m(outflow) \u001b[38;5;241m+\u001b[39m \u001b[38;5;28mlist\u001b[39m(inflow))\n\u001b[1;32m----> 7\u001b[0m edge_weights \u001b[38;5;241m=\u001b[39m [subgraph[u][v][\u001b[38;5;124m'\u001b[39m\u001b[38;5;124mweight\u001b[39m\u001b[38;5;124m'\u001b[39m] \u001b[38;5;28;01mfor\u001b[39;00m u, v \u001b[38;5;129;01min\u001b[39;00m subgraph\u001b[38;5;241m.\u001b[39medges()]\n\u001b[0;32m     10\u001b[0m \u001b[38;5;66;03m## set colors ## \u001b[39;00m\n\u001b[0;32m     11\u001b[0m node_colors \u001b[38;5;241m=\u001b[39m [\n\u001b[0;32m     12\u001b[0m     \u001b[38;5;124m'\u001b[39m\u001b[38;5;124mred\u001b[39m\u001b[38;5;124m'\u001b[39m \u001b[38;5;28;01mif\u001b[39;00m node \u001b[38;5;129;01min\u001b[39;00m [node_1] \u001b[38;5;28;01melse\u001b[39;00m\n\u001b[0;32m     13\u001b[0m     \u001b[38;5;124m'\u001b[39m\u001b[38;5;124mblue\u001b[39m\u001b[38;5;124m'\u001b[39m \u001b[38;5;28;01mif\u001b[39;00m node \u001b[38;5;129;01min\u001b[39;00m outflow \u001b[38;5;28;01melse\u001b[39;00m\n\u001b[1;32m   (...)\u001b[0m\n\u001b[0;32m     16\u001b[0m     \u001b[38;5;28;01mfor\u001b[39;00m node \u001b[38;5;129;01min\u001b[39;00m subgraph\u001b[38;5;241m.\u001b[39mnodes()\n\u001b[0;32m     17\u001b[0m ]\n",
      "\u001b[1;31mKeyError\u001b[0m: 'weight'"
     ]
    }
   ],
   "source": [
    "## select the subgrapg and edges ##\n",
    "node_1 = '84c52a94bf58be855ac22e6a538a16ba'\n",
    "outflow = set(G.successors(node_1)) \n",
    "inflow =  set(G.predecessors(node_1)) \n",
    "neighbors = set(G.successors(node_1)) | set(G.predecessors(node_1)) \n",
    "subgraph = G.subgraph( [node_1] + list(outflow) + list(inflow))\n",
    "edge_weights = [subgraph[u][v]['weight'] for u, v in subgraph.edges()]\n",
    "\n",
    "\n",
    "## set colors ## \n",
    "node_colors = [\n",
    "    'red' if node in [node_1] else\n",
    "    'blue' if node in outflow else\n",
    "    'green' if node in inflow else\n",
    "    'grey'\n",
    "    for node in subgraph.nodes()\n",
    "]\n",
    "\n",
    "edge_colors = [\n",
    "    'green' if u in inflow and v in [node_1] else\n",
    "    'blue' if v in outflow and u in [node_1] else\n",
    "    'grey'\n",
    "    for u, v in subgraph.edges()\n",
    "]\n",
    "\n",
    "labels = {\n",
    "    node: data.get('name', 'No Name Found')\n",
    "    for node, data in subgraph.nodes(data=True)\n",
    "}\n",
    "\n",
    "## actually graph ## \n",
    "pos = nx.spring_layout(subgraph)\n",
    "plt.figure(figsize=(22, 15))\n",
    "nx.draw(subgraph, pos, with_labels=True, labels=labels, node_color=node_colors, edge_color=edge_colors)\n",
    "\n",
    "\n",
    "## legends ## \n",
    "import matplotlib.patches as mpatches\n",
    "node_legend = [\n",
    "    mpatches.Patch(color='red', label='Node 1 (Highlighted)'),\n",
    "    mpatches.Patch(color='blue', label='Outflow Nodes'),\n",
    "    mpatches.Patch(color='green', label='Inflow Nodes'),\n",
    "    mpatches.Patch(color='grey', label='Other Nodes')\n",
    "]\n",
    "\n",
    "edge_legend = [\n",
    "    mpatches.Patch(color='green', label='In-edges (to Node 1)'),\n",
    "    mpatches.Patch(color='blue', label='Out-edges (from Node 1)'),\n",
    "    mpatches.Patch(color='grey', label='Other Edges')\n",
    "]\n",
    "\n",
    "plt.legend(handles=node_legend, loc='upper left', title=\"Node Types\")\n",
    "plt.legend(handles=edge_legend, loc='upper right', title=\"Edge Types\")\n",
    "\n",
    "\n",
    "##  plot and save ## \n",
    "plt.savefig(f\"{root}/Figures/Basic_Viz/network_casestudy/high_pressure_gas_market\")\n",
    "plt.show()\n",
    "\n"
   ]
  },
  {
   "cell_type": "markdown",
   "metadata": {},
   "source": [
    "## Miscellaneous networkx stuff"
   ]
  },
  {
   "cell_type": "markdown",
   "metadata": {},
   "source": []
  },
  {
   "cell_type": "markdown",
   "metadata": {},
   "source": [
    "We can also pick two nodes and see what kind of edge connects them"
   ]
  },
  {
   "cell_type": "code",
   "execution_count": 46,
   "metadata": {},
   "outputs": [
    {
     "data": {
      "text/plain": [
       "{'flow': '609fae33-2e89-4b99-8129-b1f80a6dda33',\n",
       " 'type': 'production',\n",
       " 'name': 'natural gas, low pressure',\n",
       " 'classifications': {'CPC': ['69120: Gas distribution through mains (on own account)']},\n",
       " 'production volume': 72149000000.0,\n",
       " 'properties': {'carbon allocation': {'amount': 0.544635, 'unit': 'kg'},\n",
       "  'carbon content': {'amount': 0.741, 'unit': 'dimensionless'},\n",
       "  'carbon content, fossil': {'amount': 0.741,\n",
       "   'comment': 'C content considered the same as in high pressure (consumption mix)',\n",
       "   'unit': 'dimensionless'},\n",
       "  'carbon content, non-fossil': {'amount': 0.0, 'unit': 'dimensionless'},\n",
       "  'dry mass': {'amount': 0.735, 'unit': 'kg'},\n",
       "  'heating value, gross': {'amount': 40.0,\n",
       "   'comment': 'At standard conditions, and assuming amount equal to that of high pressure; based on Meili et al. (2022) section 5.5',\n",
       "   'unit': 'MJ'},\n",
       "  'heating value, net': {'amount': 36.0,\n",
       "   'comment': 'Literature value, Source: United Nations Statistics Division (2018) International Recommendations for Energy Statistics (IRES). Available at: http://unstats.un.org/unsd/statcom/doc11/BG-IRES.pdf.',\n",
       "   'unit': 'MJ'},\n",
       "  'price': {'amount': 0.205,\n",
       "   'comment': 'Calculated value based on data from United Nations Commodity Trade Statistics Database (comtrade.un.org). UN comtrade category: 271121 Natural gas in gaseous state. Year 2005. Using exchange rate of 1EURO = 1.209 USD. Average of price of import into 4 main markets (EU, US, JP and CN).',\n",
       "   'unit': 'EUR2005'},\n",
       "  'water content': {'amount': 0.0,\n",
       "   'comment': 'water mass/dry mass',\n",
       "   'unit': 'dimensionless'},\n",
       "  'water in wet mass': {'amount': 0.0,\n",
       "   'comment': 'Tab 3.1 ecoinvent v2.2 report 6_V',\n",
       "   'unit': 'kg'},\n",
       "  'wet mass': {'amount': 0.735,\n",
       "   'comment': 'assumed same density as ',\n",
       "   'unit': 'kg'}},\n",
       " 'activity': 'e677421d-6176-5448-9bcc-6be95554985c',\n",
       " 'unit': 'cubic meter',\n",
       " 'CAS number': '14493-06-2',\n",
       " 'amount': 1.0,\n",
       " 'uncertainty type': 0,\n",
       " 'loc': 1.0,\n",
       " 'input': ('ecoinvent-3.9.1-cutoff', '4695730316b4d42e7f6f52a22aebee63'),\n",
       " 'output': ('ecoinvent-3.9.1-cutoff', '4695730316b4d42e7f6f52a22aebee63'),\n",
       " 'weight': 72149000000.0}"
      ]
     },
     "execution_count": 46,
     "metadata": {},
     "output_type": "execute_result"
    }
   ],
   "source": [
    "G.get_edge_data('4695730316b4d42e7f6f52a22aebee63', '4695730316b4d42e7f6f52a22aebee63')"
   ]
  },
  {
   "cell_type": "markdown",
   "metadata": {},
   "source": [
    "Search for a particular node"
   ]
  },
  {
   "cell_type": "code",
   "execution_count": 47,
   "metadata": {},
   "outputs": [
    {
     "name": "stdout",
     "output_type": "stream",
     "text": [
      "defaultdict(<class 'int'>, {'process': 21238, None: 2420})\n"
     ]
    }
   ],
   "source": [
    "# for node, data in G.nodes()\n",
    "\n",
    "types = defaultdict(int)\n",
    "\n",
    "for node, data in G.nodes(data=True):\n",
    "    val = data.get(\"type\")\n",
    "    types[val] += 1\n",
    "\n",
    "print(types)\n",
    "\n",
    "# first_product_node = next(\n",
    "#     (data for node, data in G.nodes(data=True) if data.get(\"type\") == \"process\"),\n",
    "#     None  # Default value if no match is found\n",
    "# )\n",
    "# print(first_product_node)"
   ]
  },
  {
   "cell_type": "code",
   "execution_count": 48,
   "metadata": {},
   "outputs": [
    {
     "name": "stdout",
     "output_type": "stream",
     "text": [
      "defaultdict(<class 'int'>, {'technosphere': 246004, 'production': 20436, 'biosphere': 407351})\n"
     ]
    }
   ],
   "source": [
    "types = defaultdict(int)\n",
    "\n",
    "for edge in G.edges(data=True):\n",
    "    u, v, data = edge\n",
    "    val = data.get(\"type\")\n",
    "    types[val] += 1\n",
    "print(types)\n"
   ]
  },
  {
   "cell_type": "markdown",
   "metadata": {},
   "source": [
    "## clustering\n",
    "\n",
    "First, get a sense of the edge weight distribution. Recall from above that edge weight could be defined as:\n",
    "\n",
    "* production volume\n",
    "* any of the values in the carbon dict:\n",
    "    * allocation*carbon amount (carbon flow)"
   ]
  },
  {
   "cell_type": "code",
   "execution_count": 119,
   "metadata": {},
   "outputs": [
    {
     "name": "stdout",
     "output_type": "stream",
     "text": [
      "Min Weight: 0.0\n",
      "Max Weight: 40601489.5\n",
      "Average Weight: 4126.92992394876\n"
     ]
    },
    {
     "data": {
      "image/png": "[encoded data removed]",
      "text/plain": [
       "<Figure size 640x480 with 1 Axes>"
      ]
     },
     "metadata": {},
     "output_type": "display_data"
    }
   ],
   "source": [
    "weights = [data['carbon_flow'] for _, _, data in G.edges(data=True)]\n",
    "\n",
    "# Print basic statistics\n",
    "# print(\"agh\")\n",
    "# print(\"Edge Weights:\", weights)\n",
    "print(\"Min Weight:\", min(weights))\n",
    "print(\"Max Weight:\", max(weights))\n",
    "avg_weight =  sum(weights) / len(weights)\n",
    "print(\"Average Weight:\", avg_weight)\n",
    "\n",
    "\n",
    "# Because there are some big big outliers, we can plot just to a low value.\n",
    "# We also strip out 0-1 (minimal)\n",
    "plt.hist(weights, bins=100, edgecolor='black', alpha=0.7)\n",
    "plt.title(\"Carbon Flow Edge Weight Distribution\")\n",
    "plt.xlabel(\"Weight\")\n",
    "plt.ylabel(\"Frequency\")\n",
    "plt.xlim(0, max(weights))\n",
    "plt.show()"
   ]
  },
  {
   "cell_type": "code",
   "execution_count": 115,
   "metadata": {},
   "outputs": [
    {
     "name": "stdout",
     "output_type": "stream",
     "text": [
      "Min Weight: 1.0000000002\n",
      "Max Weight: 244.036\n",
      "Average Weight: 100.05750297189856\n"
     ]
    },
    {
     "data": {
      "image/png": "[encoded data removed]",
      "text/plain": [
       "<Figure size 640x480 with 1 Axes>"
      ]
     },
     "metadata": {},
     "output_type": "display_data"
    }
   ],
   "source": [
    "weights = [data['carbon_flow'] for _, _, data in G.edges(data=True)]\n",
    "\n",
    "# Print basic statistics\n",
    "# print(\"agh\")\n",
    "# print(\"Edge Weights:\", weights)\n",
    "filtered_weights = [w for w in weights if 1 < w <= 250]\n",
    "print(\"Min Weight:\", min(filtered_weights))\n",
    "print(\"Max Weight:\", max(filtered_weights))\n",
    "avg_weight =  sum(filtered_weights) / len(filtered_weights)\n",
    "print(\"Average Weight:\", avg_weight)\n",
    "\n",
    "\n",
    "# Because there are some big big outliers, we can plot just to a low value.\n",
    "# We also strip out 0-1 (minimal)\n",
    "plt.hist(filtered_weights, bins=100, edgecolor='black', alpha=0.7)\n",
    "plt.title(\"Carbon Flow Edge Weight Distribution\")\n",
    "plt.xlabel(\"Weight\")\n",
    "plt.ylabel(\"Frequency\")\n",
    "plt.xlim(0, 250)\n",
    "plt.show()"
   ]
  },
  {
   "cell_type": "code",
   "execution_count": 116,
   "metadata": {},
   "outputs": [
    {
     "name": "stdout",
     "output_type": "stream",
     "text": [
      "Min Weight: 9.282937365010801e-103\n",
      "Max Weight: 1.0\n",
      "Average Weight: 0.3732234623949191\n"
     ]
    },
    {
     "data": {
      "image/png": "[encoded data removed]",
      "text/plain": [
       "<Figure size 640x480 with 1 Axes>"
      ]
     },
     "metadata": {},
     "output_type": "display_data"
    }
   ],
   "source": [
    "weights = [data['carbon_flow'] for _, _, data in G.edges(data=True)]\n",
    "\n",
    "# Print basic statistics\n",
    "# print(\"agh\")\n",
    "# print(\"Edge Weights:\", weights)\n",
    "filtered_weights = [w for w in weights if 0 < w <= 1]\n",
    "\n",
    "print(\"Min Weight:\", min(filtered_weights))\n",
    "print(\"Max Weight:\", max(filtered_weights))\n",
    "avg_weight =  sum(filtered_weights) / len(filtered_weights)\n",
    "print(\"Average Weight:\", avg_weight)\n",
    "\n",
    "\n",
    "# Because there are some big big outliers, we can plot just to a low value.\n",
    "# We also strip out 0-1 (minimal)\n",
    "filtered_weights = [w for w in weights if 0 < w <= 1]\n",
    "plt.hist(filtered_weights, bins=100, edgecolor='black', alpha=0.7)\n",
    "plt.title(\"Carbon Flow Edge Weight Distribution\")\n",
    "plt.xlabel(\"Weight\")\n",
    "plt.ylabel(\"Frequency\")\n",
    "plt.xlim(0, 1)\n",
    "plt.show()"
   ]
  },
  {
   "cell_type": "markdown",
   "metadata": {},
   "source": [
    "## Degree Characterization"
   ]
  },
  {
   "cell_type": "code",
   "execution_count": 125,
   "metadata": {},
   "outputs": [
    {
     "data": {
      "text/html": [
       "<div>\n",
       "<style scoped>\n",
       "    .dataframe tbody tr th:only-of-type {\n",
       "        vertical-align: middle;\n",
       "    }\n",
       "\n",
       "    .dataframe tbody tr th {\n",
       "        vertical-align: top;\n",
       "    }\n",
       "\n",
       "    .dataframe thead th {\n",
       "        text-align: right;\n",
       "    }\n",
       "</style>\n",
       "<table border=\"1\" class=\"dataframe\">\n",
       "  <thead>\n",
       "    <tr style=\"text-align: right;\">\n",
       "      <th></th>\n",
       "      <th>Degree</th>\n",
       "      <th>Count</th>\n",
       "    </tr>\n",
       "  </thead>\n",
       "  <tbody>\n",
       "    <tr>\n",
       "      <th>2</th>\n",
       "      <td>4</td>\n",
       "      <td>1719</td>\n",
       "    </tr>\n",
       "    <tr>\n",
       "      <th>45</th>\n",
       "      <td>8</td>\n",
       "      <td>1006</td>\n",
       "    </tr>\n",
       "    <tr>\n",
       "      <th>5</th>\n",
       "      <td>5</td>\n",
       "      <td>993</td>\n",
       "    </tr>\n",
       "    <tr>\n",
       "      <th>8</th>\n",
       "      <td>7</td>\n",
       "      <td>810</td>\n",
       "    </tr>\n",
       "    <tr>\n",
       "      <th>36</th>\n",
       "      <td>6</td>\n",
       "      <td>790</td>\n",
       "    </tr>\n",
       "    <tr>\n",
       "      <th>...</th>\n",
       "      <td>...</td>\n",
       "      <td>...</td>\n",
       "    </tr>\n",
       "    <tr>\n",
       "      <th>617</th>\n",
       "      <td>364</td>\n",
       "      <td>1</td>\n",
       "    </tr>\n",
       "    <tr>\n",
       "      <th>574</th>\n",
       "      <td>399</td>\n",
       "      <td>1</td>\n",
       "    </tr>\n",
       "    <tr>\n",
       "      <th>575</th>\n",
       "      <td>1116</td>\n",
       "      <td>1</td>\n",
       "    </tr>\n",
       "    <tr>\n",
       "      <th>576</th>\n",
       "      <td>1211</td>\n",
       "      <td>1</td>\n",
       "    </tr>\n",
       "    <tr>\n",
       "      <th>579</th>\n",
       "      <td>780</td>\n",
       "      <td>1</td>\n",
       "    </tr>\n",
       "  </tbody>\n",
       "</table>\n",
       "<p>622 rows × 2 columns</p>\n",
       "</div>"
      ],
      "text/plain": [
       "     Degree  Count\n",
       "2         4   1719\n",
       "45        8   1006\n",
       "5         5    993\n",
       "8         7    810\n",
       "36        6    790\n",
       "..      ...    ...\n",
       "617     364      1\n",
       "574     399      1\n",
       "575    1116      1\n",
       "576    1211      1\n",
       "579     780      1\n",
       "\n",
       "[622 rows x 2 columns]"
      ]
     },
     "execution_count": 125,
     "metadata": {},
     "output_type": "execute_result"
    }
   ],
   "source": [
    "degree_dict = defaultdict(int)\n",
    "\n",
    "for node in G.nodes():\n",
    "    val = G.degree[node]\n",
    "    degree_dict[val] += 1\n",
    "\n",
    "degree_frame = pd.DataFrame(list(degree_dict.items()), columns=['Degree', 'Count'])\n",
    "degree_frame.sort_values(by='Count', ascending=False)"
   ]
  },
  {
   "cell_type": "code",
   "execution_count": 138,
   "metadata": {},
   "outputs": [],
   "source": [
    "def counts_to_frame(counts):\n",
    "    \"\"\"\n",
    "    Given a numpy array of raw counts, return a dataframe with the\n",
    "    counts.\n",
    "    \"\"\"\n",
    "    df = counts.copy()\n",
    "    df = df[df['Count'] > 0]\n",
    "    df['Rank'] = df['Count'].rank(ascending=False)\n",
    "    return df\n"
   ]
  },
  {
   "cell_type": "code",
   "execution_count": 148,
   "metadata": {},
   "outputs": [
    {
     "data": {
      "text/html": [
       "<div>\n",
       "<style scoped>\n",
       "    .dataframe tbody tr th:only-of-type {\n",
       "        vertical-align: middle;\n",
       "    }\n",
       "\n",
       "    .dataframe tbody tr th {\n",
       "        vertical-align: top;\n",
       "    }\n",
       "\n",
       "    .dataframe thead th {\n",
       "        text-align: right;\n",
       "    }\n",
       "</style>\n",
       "<table border=\"1\" class=\"dataframe\">\n",
       "  <thead>\n",
       "    <tr style=\"text-align: right;\">\n",
       "      <th></th>\n",
       "      <th>Degree</th>\n",
       "      <th>Count</th>\n",
       "      <th>Rank</th>\n",
       "    </tr>\n",
       "  </thead>\n",
       "  <tbody>\n",
       "    <tr>\n",
       "      <th>2</th>\n",
       "      <td>4</td>\n",
       "      <td>1719</td>\n",
       "      <td>1.0</td>\n",
       "    </tr>\n",
       "    <tr>\n",
       "      <th>45</th>\n",
       "      <td>8</td>\n",
       "      <td>1006</td>\n",
       "      <td>2.0</td>\n",
       "    </tr>\n",
       "    <tr>\n",
       "      <th>5</th>\n",
       "      <td>5</td>\n",
       "      <td>993</td>\n",
       "      <td>3.0</td>\n",
       "    </tr>\n",
       "    <tr>\n",
       "      <th>8</th>\n",
       "      <td>7</td>\n",
       "      <td>810</td>\n",
       "      <td>4.0</td>\n",
       "    </tr>\n",
       "    <tr>\n",
       "      <th>36</th>\n",
       "      <td>6</td>\n",
       "      <td>790</td>\n",
       "      <td>5.0</td>\n",
       "    </tr>\n",
       "    <tr>\n",
       "      <th>26</th>\n",
       "      <td>10</td>\n",
       "      <td>779</td>\n",
       "      <td>6.0</td>\n",
       "    </tr>\n",
       "    <tr>\n",
       "      <th>7</th>\n",
       "      <td>3</td>\n",
       "      <td>640</td>\n",
       "      <td>7.0</td>\n",
       "    </tr>\n",
       "    <tr>\n",
       "      <th>18</th>\n",
       "      <td>9</td>\n",
       "      <td>630</td>\n",
       "      <td>8.0</td>\n",
       "    </tr>\n",
       "    <tr>\n",
       "      <th>10</th>\n",
       "      <td>11</td>\n",
       "      <td>485</td>\n",
       "      <td>9.0</td>\n",
       "    </tr>\n",
       "    <tr>\n",
       "      <th>39</th>\n",
       "      <td>16</td>\n",
       "      <td>429</td>\n",
       "      <td>10.0</td>\n",
       "    </tr>\n",
       "    <tr>\n",
       "      <th>3</th>\n",
       "      <td>15</td>\n",
       "      <td>424</td>\n",
       "      <td>11.0</td>\n",
       "    </tr>\n",
       "    <tr>\n",
       "      <th>27</th>\n",
       "      <td>13</td>\n",
       "      <td>416</td>\n",
       "      <td>12.5</td>\n",
       "    </tr>\n",
       "    <tr>\n",
       "      <th>64</th>\n",
       "      <td>12</td>\n",
       "      <td>416</td>\n",
       "      <td>12.5</td>\n",
       "    </tr>\n",
       "    <tr>\n",
       "      <th>35</th>\n",
       "      <td>14</td>\n",
       "      <td>396</td>\n",
       "      <td>14.0</td>\n",
       "    </tr>\n",
       "    <tr>\n",
       "      <th>6</th>\n",
       "      <td>17</td>\n",
       "      <td>387</td>\n",
       "      <td>15.0</td>\n",
       "    </tr>\n",
       "    <tr>\n",
       "      <th>24</th>\n",
       "      <td>18</td>\n",
       "      <td>376</td>\n",
       "      <td>16.0</td>\n",
       "    </tr>\n",
       "    <tr>\n",
       "      <th>25</th>\n",
       "      <td>2</td>\n",
       "      <td>352</td>\n",
       "      <td>17.0</td>\n",
       "    </tr>\n",
       "    <tr>\n",
       "      <th>12</th>\n",
       "      <td>20</td>\n",
       "      <td>320</td>\n",
       "      <td>18.0</td>\n",
       "    </tr>\n",
       "    <tr>\n",
       "      <th>42</th>\n",
       "      <td>19</td>\n",
       "      <td>277</td>\n",
       "      <td>19.0</td>\n",
       "    </tr>\n",
       "    <tr>\n",
       "      <th>78</th>\n",
       "      <td>21</td>\n",
       "      <td>274</td>\n",
       "      <td>20.0</td>\n",
       "    </tr>\n",
       "  </tbody>\n",
       "</table>\n",
       "</div>"
      ],
      "text/plain": [
       "    Degree  Count  Rank\n",
       "2        4   1719   1.0\n",
       "45       8   1006   2.0\n",
       "5        5    993   3.0\n",
       "8        7    810   4.0\n",
       "36       6    790   5.0\n",
       "26      10    779   6.0\n",
       "7        3    640   7.0\n",
       "18       9    630   8.0\n",
       "10      11    485   9.0\n",
       "39      16    429  10.0\n",
       "3       15    424  11.0\n",
       "27      13    416  12.5\n",
       "64      12    416  12.5\n",
       "35      14    396  14.0\n",
       "6       17    387  15.0\n",
       "24      18    376  16.0\n",
       "25       2    352  17.0\n",
       "12      20    320  18.0\n",
       "42      19    277  19.0\n",
       "78      21    274  20.0"
      ]
     },
     "execution_count": 148,
     "metadata": {},
     "output_type": "execute_result"
    }
   ],
   "source": [
    "degree_rank = counts_to_frame(degree_frame)\n",
    "degree_rank.sort_values(by='Count', ascending=False).head(20)\n",
    "\n"
   ]
  },
  {
   "cell_type": "code",
   "execution_count": null,
   "metadata": {},
   "outputs": [
    {
     "data": {
      "text/plain": [
       "Text(0, 0.5, '$\\\\log_{10}$ Count')"
      ]
     },
     "execution_count": 163,
     "metadata": {},
     "output_type": "execute_result"
    },
    {
     "data": {
      "image/png": "[encoded data removed]",
      "text/plain": [
       "<Figure size 640x480 with 1 Axes>"
      ]
     },
     "metadata": {},
     "output_type": "display_data"
    }
   ],
   "source": [
    "sns.regplot(data=degree_rank.apply(np.log), y='Count', x='Rank', fit_reg=False)\n",
    "plt.title(r\"Zipfian $\\log_{10}$ Rank plot for node degree in ecoinvent database\")\n",
    "plt.xlabel(r\"$\\log_{10}$ Rank\")\n",
    "plt.ylabel(r\"$\\log_{10}$ Count\")"
   ]
  },
  {
   "cell_type": "code",
   "execution_count": null,
   "metadata": {},
   "outputs": [],
   "source": [
    "## All in one function"
   ]
  },
  {
   "cell_type": "markdown",
   "metadata": {},
   "source": [
    "A differential characterization would be useful -- how "
   ]
  }
 ],
 "metadata": {
  "kernelspec": {
   "display_name": "SEE_BW",
   "language": "python",
   "name": "python3"
  },
  "language_info": {
   "codemirror_mode": {
    "name": "ipython",
    "version": 3
   },
   "file_extension": ".py",
   "mimetype": "text/x-python",
   "name": "python",
   "nbconvert_exporter": "python",
   "pygments_lexer": "ipython3",
   "version": "3.13.1"
  }
 },
 "nbformat": 4,
 "nbformat_minor": 2
}
